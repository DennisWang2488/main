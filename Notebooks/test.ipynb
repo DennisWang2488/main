{
 "cells": [
  {
   "cell_type": "markdown",
   "metadata": {},
   "source": [
    "$$\n",
    "\n",
    "d_i^* = \\begin{cases}\n",
    "\\frac{Q (r_i^{1-\\alpha})^{\\frac{1}{\\alpha}} c_i^{-1}}{\\left(\\sum_{j \\in I} (r_j^{1-\\alpha})^{\\frac{1}{\\alpha}} c_j^{1-\\frac{1}{\\alpha}}\\right)^{\\alpha}} & \\text{if } i \\in I \\\\\n",
    "0 & \\text{otherwise}\n",
    "\\end{cases}\n",
    "\n",
    "$$\n",
    "where $I = \\{i : d_i^* > 0\\} = \\left(\\frac{r_i^{1-\\alpha}}{\\lambda c_i}\\right)^{\\frac{1}{\\alpha}} > 0\n",
    "$"
   ]
  },
  {
   "cell_type": "code",
   "execution_count": 62,
   "metadata": {},
   "outputs": [
    {
     "name": "stdout",
     "output_type": "stream",
     "text": [
      "Closed-form solution: [0.5224903  0.22671063 0.17265    0.13685045 0.00797603]\n",
      "cvxpy solution: [2.10688895e+00 1.46844518e-09 3.29533072e-10 5.69015890e-10\n",
      " 1.11251924e-09]\n"
     ]
    }
   ],
   "source": [
    "import cvxpy as cp\n",
    "import numpy as np\n",
    "\n",
    "n = 5 \n",
    "alpha = 0.5 \n",
    "r = np.random.rand(n)  \n",
    "c = np.random.rand(n)  \n",
    "Q = 1.0\n",
    "\n",
    "lambda_val = (1 / Q**alpha) * np.sum((r**(1-alpha))**(1/alpha))\n",
    "d_closed_form = ((r**(1-alpha) * Q**alpha) / (c * np.sum((r**(1-alpha))**(1/alpha))))**(1/alpha)\n",
    "\n",
    "objective_closed_form = np.sum((r * d_closed_form)**(1-alpha)) / (1-alpha)\n",
    "\n",
    "d = cp.Variable(n)\n",
    "objective = cp.Maximize(cp.sum(cp.power(r * d, 1-alpha)) / (1-alpha))\n",
    "constraints = [d >= 0, cp.sum(cp.multiply(c, d)) <= Q]\n",
    "problem = cp.Problem(objective, constraints)\n",
    "problem.solve()\n",
    "\n",
    "objective_cvxpy = problem.value\n",
    "print(\"Closed-form solution:\", d_closed_form)\n",
    "print(\"cvxpy solution:\", d.value)\n",
    "\n"
   ]
  },
  {
   "cell_type": "code",
   "execution_count": 63,
   "metadata": {},
   "outputs": [
    {
     "name": "stdout",
     "output_type": "stream",
     "text": [
      "Closed-form objective value: 2.83251874718587\n",
      "cvxpy objective value: 2.0292726459725934\n",
      "Difference in solutions: [1.58439865 0.22671062 0.17265    0.13685045 0.00797603]\n",
      "Clsoed form have a higher objective value and the difference is: True\n"
     ]
    }
   ],
   "source": [
    "\n",
    "print(\"Closed-form objective value:\", objective_closed_form)\n",
    "print(\"cvxpy objective value:\", objective_cvxpy)\n",
    "print(\"Difference in solutions:\", np.abs(d_closed_form - d.value))\n",
    "print(\"Clsoed form have a higher objective value and the difference is:\", (True if np.abs(objective_closed_form - objective_cvxpy) else False))\n"
   ]
  }
 ],
 "metadata": {
  "kernelspec": {
   "display_name": "base",
   "language": "python",
   "name": "python3"
  },
  "language_info": {
   "codemirror_mode": {
    "name": "ipython",
    "version": 3
   },
   "file_extension": ".py",
   "mimetype": "text/x-python",
   "name": "python",
   "nbconvert_exporter": "python",
   "pygments_lexer": "ipython3",
   "version": "3.11.5"
  }
 },
 "nbformat": 4,
 "nbformat_minor": 2
}
