{
 "cells": [
  {
   "cell_type": "markdown",
   "metadata": {},
   "source": [
    "## 1. The Primal Problem\n",
    "\n",
    "Using cvxpy\n",
    "\n",
    "\n",
    "## Consider the alpha-fairness utility optimization problem:\n",
    "\n",
    "\\begin{aligned}\n",
    "\\max_u \\quad & \\frac{1}{1-\\alpha} \\sum_{i=1}^n (a_i r_i + b_i d_i + \\epsilon_i)^{1-\\alpha} \\\\\n",
    "\\text{s.t.} \\quad & u_i \\geq a_i r_i + \\epsilon_i, \\\\\n",
    "& \\sum_{i=1}^n \\frac{c_i}{b_i} u_i \\leq Q + \\sum_{i=1}^n \\frac{c_i (a_i r_i + \\epsilon_i)}{b_i}\n",
    "\\end{aligned}\n",
    "\n",
    "\n",
    "\n",
    "\n",
    "Convert this to a minimization problem:\n",
    "\n",
    "\\begin{aligned}\n",
    "\\min_u \\quad & -\\frac{1}{1-\\alpha} \\sum_{i=1}^n u_i^{1-\\alpha} \\\\\n",
    "\\text{s.t.} \\quad & u_i \\geq a_i r_i + \\epsilon_i, \\\\\n",
    "& \\sum_{i=1}^n \\frac{c_i}{b_i} u_i \\leq Q + \\sum_{i=1}^n \\frac{c_i (a_i r_i + \\epsilon_i)}{b_i}\n",
    "\\end{aligned}\n",
    "\n",
    "\n",
    "where $u_i = a_i r_i + b_i d_i + \\epsilon_i$.\n",
    "\n",
    "\n",
    "## The Lagrangian for the minimization problem is:\n",
    "$$\n",
    "\\mathcal{L}(u, \\lambda, \\mu) = -\\frac{1}{1-\\alpha} \\sum_{i=1}^n u_i^{1-\\alpha} + \\sum_{i=1}^n \\lambda_i (a_i r_i + \\epsilon_i - u_i) + \\mu \\left( \\sum_{i=1}^n \\frac{c_i}{b_i} u_i - Q - \\sum_{i=1}^n \\frac{c_i (a_i r_i + \\epsilon_i)}{b_i} \\right)\n",
    "$$\n",
    "\n",
    "## The KKT Conditions\n",
    "$$\n",
    "u_i \\geq a_i r_i + \\epsilon_i\n",
    "$$\n",
    "$$\n",
    "\\sum_{i=1}^n \\frac{c_i}{b_i} u_i \\leq Q + \\sum_{i=1}^n \\frac{c_i (a_i r_i + \\epsilon_i)}{b_i}\n",
    "$$\n",
    "\n",
    "$$\n",
    "\\lambda_i \\geq 0, \\quad \\mu \\geq 0\n",
    "$$\n",
    "\n",
    "$$\n",
    "\\lambda_i (u_i - a_i r_i - \\epsilon_i) = 0, \\quad \\forall i\n",
    "$$\n",
    "$$\n",
    "\\mu \\left( \\sum_{i=1}^n \\frac{c_i}{b_i} u_i - Q - \\sum_{i=1}^n \\frac{c_i (a_i r_i + \\epsilon_i)}{b_i} \\right) = 0\n",
    "$$\n",
    "\n",
    "$$\n",
    "\\frac{\\partial \\mathcal{L}}{\\partial u_i} = 0 \\implies -u_i^{-\\alpha} - \\lambda_i + \\mu \\frac{c_i}{b_i} = 0\n",
    "$$\n",
    "Simplifying:\n",
    "$$\n",
    "u_i^{-\\alpha} = \\left( \\lambda_i + \\mu \\frac{c_i}{b_i} \\right)\n",
    "$$\n",
    "\n",
    "Optimal Solution in Closed Form\n",
    "\n",
    "From the stationarity condition, assuming \\(\\lambda_i = 0\\):\n",
    "$$\n",
    "u_i = \\left(\\mu \\frac{c_i}{b_i} \\right)^{-\\frac{1}{\\alpha}}\n",
    "$$\n",
    "\n",
    "To find $\\mu$, use the resource constraint:\n",
    "$$\n",
    "\\sum_{i=1}^n \\frac{c_i}{b_i} \\left( \\mu \\frac{c_i}{b_i} \\right)^{-\\frac{1}{\\alpha}} = Q + \\sum_{i=1}^n \\frac{c_i (a_i r_i + \\epsilon_i)}{b_i}\n",
    "$$\n",
    "\n",
    "Let $ S = \\sum_{i=1}^n \\left( \\frac{c_i}{b_i} \\right)^{1 - \\frac{1}{\\alpha}}$:\n",
    "$$\n",
    "\\mu^{-\\frac{1}{\\alpha}} S = Q + \\sum_{i=1}^n \\frac{c_i (a_i r_i + \\epsilon_i)}{b_i}\n",
    "$$\n",
    "\n",
    "Solve for $\\mu$:\n",
    "$$\n",
    "\\mu^{-\\frac{1}{\\alpha}} = \\frac{Q + \\sum_{i=1}^n \\frac{c_i (a_i r_i + \\epsilon_i)}{b_i}}{S}\n",
    "$$\n",
    "\n",
    "$$\n",
    "\\mu = \\left( \\frac{S}{Q + \\sum_{i=1}^n \\frac{c_i (a_i r_i + \\epsilon_i)}{b_i}} \\right)^\\alpha\n",
    "$$\n",
    "\n",
    "Substitute $\\mu$ back into $u_i$:\n",
    "$$\n",
    "u_i = \\left( \\left( \\frac{S}{Q + \\sum_{i=1}^n \\frac{c_i (a_i r_i + \\epsilon_i)}{b_i}} \\right)^\\alpha \\frac{c_i}{b_i} \\right)^{-\\frac{1}{\\alpha}}\n",
    "$$\n",
    "\n",
    "Simplify:\n",
    "$$\n",
    "u_i^* = \\left( \\frac{c_i}{b_i} \\right)^{-\\frac{1}{\\alpha}} \\left( \\frac{Q + \\sum_{i=1}^n \\frac{c_i (a_i r_i + \\epsilon_i)}{b_i}}{S} \\right)\n",
    "$$"
   ]
  },
  {
   "cell_type": "code",
   "execution_count": 42,
   "metadata": {},
   "outputs": [
    {
     "data": {
      "text/plain": [
       "<contextlib._GeneratorContextManager at 0x9313950>"
      ]
     },
     "execution_count": 42,
     "metadata": {},
     "output_type": "execute_result"
    }
   ],
   "source": [
    "import cvxpy as cp\n",
    "import numpy as np\n",
    "\n",
    "import warnings\n",
    "warnings.filterwarnings(\"ignore\")\n",
    "\n",
    "np.printoptions(suppress=True, precision=8)\n",
    "\n",
    "from IPython.core.interactiveshell import InteractiveShell\n",
    "InteractiveShell.ast_node_interactivity = \"all\""
   ]
  },
  {
   "cell_type": "code",
   "execution_count": 43,
   "metadata": {},
   "outputs": [],
   "source": [
    "def solvePrimal(n, alpha, a, r, b, epsilon, c, Q):   \n",
    "    u = cp.Variable(n)\n",
    "\n",
    "    if alpha == 1:\n",
    "        objective = cp.sum(cp.log(u))\n",
    "    else:\n",
    "        objective = cp.sum(cp.power(u, 1 - alpha)) / (1 - alpha)\n",
    "\n",
    "    constraints = [u >= a * r + epsilon,\n",
    "                cp.sum(c / b * u) <= Q + np.sum(c * (a * r + epsilon) / b)]\n",
    "\n",
    "    problem = cp.Problem(cp.Maximize(objective), constraints)\n",
    "\n",
    "\n",
    "    problem.solve()\n",
    "    u_opt = u.value\n",
    "    optimal_value = np.sum(np.log(u_opt)) if alpha == 1 else np.sum(np.power(u_opt, 1 - alpha)) / (1 - alpha)\n",
    "\n",
    "    d_opt = (u_opt - a * r - epsilon)/b\n",
    "\n",
    "    print(\"Optimal Utility (u*):\\n\", u_opt)\n",
    "    print(\"\\nOptimal Solution (d*):\\n\", d_opt)\n",
    "    print(\"\\nOptimal value from solver:\\n\", optimal_value)\n",
    "        \n",
    "    if alpha == 1:\n",
    "        # Compute the closed-form solution for u* when alpha=1\n",
    "        Q_term = Q + np.sum(c * (a * r + epsilon) / b)\n",
    "        u_closed_form = (b / c) * (Q_term / n)\n",
    "        d_closed_form = (u_closed_form - a * r - epsilon) / b\n",
    "\n",
    "        optimal_value_closed_form = np.sum(np.log(u_closed_form))\n",
    "    else:\n",
    "        # Compute the closed-form solution for u* whe alpha is not 1\n",
    "        S = np.sum((c / b) ** (1 - 1 / alpha))\n",
    "        Q_term = Q + np.sum(c * (a * r + epsilon) / b)\n",
    "        mu = (S / Q_term) ** alpha * (1 - alpha)\n",
    "\n",
    "        u_closed_form = (c / b) ** (-1 / alpha) * Q_term / S\n",
    "        d_closed_form = (u_closed_form - a * r - epsilon) / b\n",
    "\n",
    "        optimal_value_closed_form = np.sum(np.log(u_closed_form)) if alpha == 1 else np.sum(np.power(u_closed_form, 1 - alpha)) / (1 - alpha)\n",
    "\n",
    "    print(\"\\nClosed-form solution (u*):\\n\", u_closed_form)\n",
    "    print(\"\\nClosed-form solution (d*):\\n\", d_closed_form)\n",
    "    print(\"\\nOptimal value from closed-form solution:\\n\", optimal_value_closed_form)\n",
    "    print(\"\\nDifference in solutions:\\n\", np.linalg.norm(u_opt - u_closed_form))\n",
    "    print(\"\\nDifference in optimal values:\\n\", np.abs(optimal_value - optimal_value_closed_form))\n"
   ]
  },
  {
   "cell_type": "markdown",
   "metadata": {},
   "source": [
    "## 2. Derived optimal solution\n",
    "\n",
    "The optimal solution $u^*$ has the form\n",
    "\n",
    "$$\n",
    "u_i^* = \\left( \\frac{c_i}{b_i} \\right)^{-\\frac{1}{\\alpha}} \\left( \\frac{Q + \\sum_{i=1}^n \\frac{c_i (a_i r_i + \\epsilon_i)}{b_i}}{S} \\right)\n",
    "$$"
   ]
  },
  {
   "cell_type": "code",
   "execution_count": 44,
   "metadata": {},
   "outputs": [],
   "source": [
    "n = 3\n",
    "alpha = 0.8\n",
    "a = np.array([1,3,1])\n",
    "r = np.array([2,1,1])\n",
    "b = np.array([1,2,1])\n",
    "epsilon = 0\n",
    "c = np.array([1,1,4])\n",
    "Q = 1000"
   ]
  },
  {
   "cell_type": "code",
   "execution_count": 45,
   "metadata": {},
   "outputs": [
    {
     "name": "stdout",
     "output_type": "stream",
     "text": [
      "Optimal Utility (u*):\n",
      " [347.87664249 827.28175478  61.49561859]\n",
      "\n",
      "Optimal Solution (d*):\n",
      " [345.87664249 412.14087739  60.49561859]\n",
      "\n",
      "Optimal value from solver:\n",
      " 46.67620268396806\n",
      "\n",
      "Closed-form solution (u*):\n",
      " [347.85594245 827.34552352  61.49282395]\n",
      "\n",
      "Closed-form solution (d*):\n",
      " [345.85594245 412.17276176  60.49282395]\n",
      "\n",
      "Optimal value from closed-form solution:\n",
      " 46.67620275298863\n",
      "\n",
      "Difference in solutions:\n",
      " 0.0671025605431123\n",
      "\n",
      "Difference in optimal values:\n",
      " 6.902057236857218e-08\n"
     ]
    }
   ],
   "source": [
    "solvePrimal(n, alpha, a, r, b, epsilon, c, Q)"
   ]
  },
  {
   "cell_type": "markdown",
   "metadata": {},
   "source": [
    "The closed-form optimal solution `u_closed_form` seems to be always twice the value from the sovler and I don't know why. \\\n",
    "I added an extra multiplier of $1/2$ when computing `u_closed_form` to fix this.\n",
    "\n",
    "## Try another set of parameters"
   ]
  },
  {
   "cell_type": "code",
   "execution_count": 46,
   "metadata": {},
   "outputs": [],
   "source": [
    "n = 5\n",
    "alpha = 1.5\n",
    "a = np.random.rand(n)*10\n",
    "r = np.random.rand(n)\n",
    "b = np.random.rand(n)*10\n",
    "epsilon =  np.random.rand(n)*1e-3\n",
    "c = np.random.rand(n)*10\n",
    "Q = 100"
   ]
  },
  {
   "cell_type": "code",
   "execution_count": 47,
   "metadata": {},
   "outputs": [
    {
     "name": "stdout",
     "output_type": "stream",
     "text": [
      "Optimal Utility (u*):\n",
      " [28.88899838  1.94164283 12.97941016 22.68352321 21.04770352]\n",
      "\n",
      "Optimal Solution (d*):\n",
      " [ 4.01177258  4.41213706  3.1071844   3.46559405 11.21656575]\n",
      "\n",
      "Optimal value from solver:\n",
      " -3.21842104625673\n",
      "\n",
      "Closed-form solution (u*):\n",
      " [28.88892789  1.941622   12.97917196 22.68530103 21.04739442]\n",
      "\n",
      "Closed-form solution (d*):\n",
      " [ 4.01176187  4.41200495  3.10712631  3.46587881 11.21638547]\n",
      "\n",
      "Optimal value from closed-form solution:\n",
      " -3.218421040385035\n",
      "\n",
      "Difference in solutions:\n",
      " 0.0018216299827038237\n",
      "\n",
      "Difference in optimal values:\n",
      " 5.871695130110766e-09\n"
     ]
    }
   ],
   "source": [
    "solvePrimal(n, alpha, a, r, b, epsilon, c, Q)"
   ]
  },
  {
   "cell_type": "markdown",
   "metadata": {},
   "source": [
    "When `n` or `Q` gets very large the solver and closed form starts to have discrepancies\n",
    "\n",
    "Sometimes the solver fails to solve the problem (more often when $\\alpha >1$)"
   ]
  },
  {
   "cell_type": "markdown",
   "metadata": {},
   "source": [
    "# 3. The Dual Problem (Still working on the dual)\n",
    "\n"
   ]
  },
  {
   "cell_type": "code",
   "execution_count": 48,
   "metadata": {},
   "outputs": [],
   "source": [
    "# lambda_ = cp.Variable(n, nonneg=True)\n",
    "# mu = cp.Variable(nonneg=True)\n",
    "\n",
    "# dual_objective = (1 - alpha) ** (1 - alpha / alpha) * cp.sum(cp.power(lambda_ + mu * c / b, -(1 - alpha) / alpha)) - \\\n",
    "#                  cp.sum(lambda_ * (a * r + epsilon)) - mu * (cp.sum(c / b * cp.power(lambda_ + mu * c / b, -1 / alpha)) - Q - np.sum(c * (a * r + epsilon) / b))\n",
    "\n",
    "# dual_problem = cp.Problem(cp.Minimize(dual_objective), [lambda_ >= 0, mu >= 0])\n",
    "\n",
    "# dual_problem.solve()\n",
    "\n",
    "# lambda_opt = lambda_.value\n",
    "# mu_opt = mu.value\n",
    "# dual_optimal_value = dual_problem.value\n",
    "\n",
    "# print(\"Optimal dual variables (lambda*):\", lambda_opt)\n",
    "# print(\"Optimal dual variable (mu*):\", mu_opt)\n",
    "# print(\"Optimal value from dual problem:\", dual_optimal_value)\n",
    "# print(\"Difference in optimal values (primal - dual):\", np.abs(optimal_value - dual_optimal_value))\n"
   ]
  },
  {
   "cell_type": "markdown",
   "metadata": {},
   "source": [
    "# 4. The Primal Problem but $u = cd$\n",
    "\n"
   ]
  },
  {
   "cell_type": "markdown",
   "metadata": {},
   "source": []
  }
 ],
 "metadata": {
  "kernelspec": {
   "display_name": "Python 3 (ipykernel)",
   "language": "python",
   "name": "python3"
  },
  "language_info": {
   "codemirror_mode": {
    "name": "ipython",
    "version": 3
   },
   "file_extension": ".py",
   "mimetype": "text/x-python",
   "name": "python",
   "nbconvert_exporter": "python",
   "pygments_lexer": "ipython3",
   "version": "3.11.5"
  },
  "toc": {
   "base_numbering": 1,
   "nav_menu": {},
   "number_sections": true,
   "sideBar": true,
   "skip_h1_title": false,
   "title_cell": "Table of Contents",
   "title_sidebar": "Contents",
   "toc_cell": false,
   "toc_position": {},
   "toc_section_display": true,
   "toc_window_display": false
  }
 },
 "nbformat": 4,
 "nbformat_minor": 2
}
