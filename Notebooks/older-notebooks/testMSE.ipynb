{
 "cells": [
  {
   "cell_type": "markdown",
   "metadata": {},
   "source": [
    "# End to end learning with closed form solution"
   ]
  },
  {
   "cell_type": "markdown",
   "metadata": {},
   "source": [
    "**2-stage Method vs. e2e with fair constraints vs. fair objectives**\n",
    "\n",
    "1. Create a dataset\n",
    "\n",
    "2. Optimization model\n",
    "\n",
    "4. Training\n",
    "    - with different loss functions\n",
    "\n",
    "5. Evaluation"
   ]
  },
  {
   "cell_type": "code",
   "execution_count": 13,
   "metadata": {},
   "outputs": [
    {
     "data": {
      "text/plain": [
       "<contextlib._GeneratorContextManager at 0xb3e8d310>"
      ]
     },
     "execution_count": 13,
     "metadata": {},
     "output_type": "execute_result"
    }
   ],
   "source": [
    "import cvxpy as cp\n",
    "import numpy as np\n",
    "import time\n",
    "import warnings\n",
    "import sys\n",
    "from IPython.core.interactiveshell import InteractiveShell\n",
    "import torch\n",
    "import torch.nn as nn\n",
    "import torch.optim as optim\n",
    "import time\n",
    "import os\n",
    "os.environ[\"KMP_DUPLICATE_LIB_OK\"] = \"TRUE\"\n",
    "\n",
    "warnings.filterwarnings(\"ignore\")\n",
    "np.printoptions(suppress=True)\n",
    "InteractiveShell.ast_node_interactivity = \"all\"\n",
    "sys.path.insert(1,'E:\\\\User\\\\Stevens\\\\Spring 2024\\\\PTO - Fairness\\\\myUtils')\n",
    "\n",
    "from torch.utils.data import DataLoader, TensorDataset, random_split\n",
    "import matplotlib.pyplot as plt\n",
    "\n",
    "# Generate synthetic data\n",
    "from genData import genData\n",
    "from optDataset import AlphaFairOptDataset\n",
    "from optModel import optCvModel\n"
   ]
  },
  {
   "cell_type": "code",
   "execution_count": 14,
   "metadata": {},
   "outputs": [
    {
     "data": {
      "text/plain": [
       "device(type='cuda')"
      ]
     },
     "execution_count": 14,
     "metadata": {},
     "output_type": "execute_result"
    }
   ],
   "source": [
    "# Check if CUDA is available\n",
    "device = torch.device(\"cuda\" if torch.cuda.is_available() else \"cpu\")\n",
    "device"
   ]
  },
  {
   "cell_type": "code",
   "execution_count": 15,
   "metadata": {},
   "outputs": [],
   "source": [
    "%%capture\n",
    "import os\n",
    "os.environ[\"KMP_DUPLICATE_LIB_OK\"] = \"TRUE\"\n",
    "\n",
    "# Now import the necessary modules\n",
    "import torch\n",
    "import torch.nn as nn\n",
    "import torch.optim as optim\n",
    "from torch.utils.data import DataLoader, TensorDataset, random_split\n",
    "import numpy as np\n",
    "import matplotlib.pyplot as plt\n",
    "\n",
    "# Generate synthetic data\n",
    "from genData import genData\n",
    "from optDataset import AlphaFairOptDataset\n",
    "\n",
    "num_data = 1000\n",
    "num_features = 10\n",
    "num_items = 5\n",
    "a, b, c, r, x, Q, epsilon = genData(num_data, num_features, num_items)\n",
    "\n",
    "# Create dataset\n",
    "dataset = AlphaFairOptDataset(a, b, c, r, x, Q, alpha=0.5, epsilon=epsilon)\n",
    "\n",
    "# Train-test split\n",
    "train_size = int(0.8 * len(dataset))\n",
    "test_size = len(dataset) - train_size\n",
    "train_dataset, test_dataset = random_split(dataset, [train_size, test_size])\n",
    "\n",
    "# Data loaders\n",
    "batch_size = 32\n",
    "loader_train = DataLoader(train_dataset, batch_size=batch_size, shuffle=True)\n",
    "loader_test = DataLoader(test_dataset, batch_size=batch_size, shuffle=False)\n",
    "\n",
    "class LogisticRegressionModel(nn.Module):\n",
    "    def __init__(self, input_dim):\n",
    "        super(LogisticRegressionModel, self).__init__()\n",
    "        self.linear = nn.Linear(input_dim, num_items)\n",
    "\n",
    "    def forward(self, x):\n",
    "        return self.linear(x)\n",
    "\n",
    "# Initialize model, loss function, and optimizer\n",
    "input_dim = num_features\n",
    "model = LogisticRegressionModel(input_dim)\n",
    "criterion = nn.MSELoss()\n",
    "optimizer = optim.Adam(model.parameters(), lr=0.05)\n",
    "\n",
    "# Define the regret loss function\n",
    "def regret(predmodel, optmodel, dataloader):\n",
    "    predmodel.eval()\n",
    "    loss = 0\n",
    "    optsum = 0\n",
    "\n",
    "    for data in dataloader:\n",
    "        x, _, _, _ = data\n",
    "        x = x.float()\n",
    "        with torch.no_grad():\n",
    "            r_hat = predmodel(x).numpy()\n",
    "        \n",
    "        for i in range(len(x)):\n",
    "            optmodel.setObj(a[i], r_hat[i], b[i], c[i])\n",
    "            u_opt, d_opt, opt_value_pred = optmodel.solveP()\n",
    "            u_true, d_true, opt_value_true = optmodel.solve()\n",
    "            loss += abs(opt_value_true - opt_value_pred)\n",
    "            optsum += abs(opt_value_true)\n",
    "\n",
    "    return loss / (optsum + 1e-7)\n",
    "\n",
    "# Training process\n",
    "num_epochs = 100\n",
    "train_losses = []\n",
    "\n",
    "for epoch in range(num_epochs):\n",
    "    model.train()\n",
    "    epoch_loss = 0\n",
    "    for data in loader_train:\n",
    "        x, _, _, r_true = data\n",
    "        x = x.float()\n",
    "        r_true = r_true.float()\n",
    "        optimizer.zero_grad()\n",
    "        r_hat = model(x)\n",
    "        loss = criterion(r_hat, r_true)\n",
    "        loss.backward()\n",
    "        optimizer.step()\n",
    "        epoch_loss += loss.item()\n",
    "\n",
    "    train_losses.append(epoch_loss / len(loader_train))\n",
    "    print(f'Epoch [{epoch+1}/{num_epochs}], Loss: {epoch_loss / len(loader_train):.4f}')\n",
    "\n",
    "\n"
   ]
  },
  {
   "cell_type": "code",
   "execution_count": 16,
   "metadata": {},
   "outputs": [
    {
     "data": {
      "text/plain": [
       "[<matplotlib.lines.Line2D at 0x7dbd10>]"
      ]
     },
     "execution_count": 16,
     "metadata": {},
     "output_type": "execute_result"
    },
    {
     "data": {
      "text/plain": [
       "Text(0.5, 0, 'Epoch')"
      ]
     },
     "execution_count": 16,
     "metadata": {},
     "output_type": "execute_result"
    },
    {
     "data": {
      "text/plain": [
       "Text(0, 0.5, 'Loss')"
      ]
     },
     "execution_count": 16,
     "metadata": {},
     "output_type": "execute_result"
    },
    {
     "data": {
      "text/plain": [
       "Text(0.5, 1.0, 'Training Loss Curve')"
      ]
     },
     "execution_count": 16,
     "metadata": {},
     "output_type": "execute_result"
    },
    {
     "data": {
      "image/png": "[encoded data removed]",
      "text/plain": [
       "<Figure size 640x480 with 1 Axes>"
      ]
     },
     "metadata": {},
     "output_type": "display_data"
    }
   ],
   "source": [
    "# Plot the loss curve\n",
    "plt.plot(train_losses)\n",
    "plt.xlabel('Epoch')\n",
    "plt.ylabel('Loss')\n",
    "plt.title('Training Loss Curve')\n",
    "plt.show()"
   ]
  },
  {
   "cell_type": "code",
   "execution_count": 1,
   "metadata": {},
   "outputs": [
    {
     "name": "stdout",
     "output_type": "stream",
     "text": [
      "is_invertible_LHS: True\n",
      "condition_number: 3100.0430504262117\n"
     ]
    }
   ],
   "source": [
    "import numpy as np\n",
    "\n",
    "def check_matrix_conditions_with_lambda_zero(A, B, C, D, M):\n",
    "    # Lambda is zero\n",
    "    Lambda = np.zeros((n**2, n**2))\n",
    "    \n",
    "    # Construct the LHS block matrix\n",
    "    LHS = np.block([\n",
    "        [A, B, C],\n",
    "        [Lambda, D, np.zeros((n**2, n))],\n",
    "        [M, np.zeros((n, n**2)), (np.sum(c * d_i) - Q) * np.eye(n)]\n",
    "    ])\n",
    "\n",
    "    # Check conditions for invertibility\n",
    "    def is_invertible(matrix):\n",
    "        return np.linalg.cond(matrix) < 1 / np.finfo(matrix.dtype).eps\n",
    "\n",
    "    is_invertible_LHS = is_invertible(LHS)\n",
    "    condition_number = np.linalg.cond(LHS)\n",
    "\n",
    "    return {\n",
    "        \"is_invertible_LHS\": is_invertible_LHS,\n",
    "        \"condition_number\": condition_number\n",
    "    }\n",
    "\n",
    "# Example data\n",
    "a = np.array([0.66748258, 0.60456784])\n",
    "b = np.array([1.11949035, 0.96349404])\n",
    "c = np.array([8., 7.])\n",
    "r = np.array([0.02581191, 0.13516629])\n",
    "Q = 1000\n",
    "epsilon = 0.1\n",
    "alpha = 0.5\n",
    "d_i = np.array([0.5, 0.5])\n",
    "lambda_i = np.array([0.0, 0.0])  # Lambda is zero\n",
    "mu = 1\n",
    "n = len(a)\n",
    "\n",
    "# Construct matrices (same as before)\n",
    "A_elements = [alpha * b[i]**2 * (a[i] * r[j] + b[i] * d_i[i] + epsilon)**(-alpha-1) for i in range(n) for j in range(n)]\n",
    "A = np.diag(A_elements)\n",
    "B = -np.eye(n**2)\n",
    "C = np.zeros((n**2, n))\n",
    "for i in range(n):\n",
    "    for j in range(n):\n",
    "        idx = i * n + j\n",
    "        C[idx, i] = c[i]\n",
    "D = np.zeros((n**2, n**2))\n",
    "for i in range(n):\n",
    "    for j in range(n):\n",
    "        idx = i * n + j\n",
    "        D[idx, idx] = d_i[i]\n",
    "M = np.zeros((n, n**2))\n",
    "for i in range(n):\n",
    "    M[i, i * 2] = mu * c[i]\n",
    "    M[i, i * 2 + 1] = mu * c[i]\n",
    "\n",
    "# Check conditions with lambda = 0\n",
    "conditions_with_lambda_zero = check_matrix_conditions_with_lambda_zero(A, B, C, D, M)\n",
    "for key, value in conditions_with_lambda_zero.items():\n",
    "    print(f\"{key}: {value}\")\n"
   ]
  },
  {
   "cell_type": "code",
   "execution_count": 2,
   "metadata": {},
   "outputs": [
    {
     "name": "stdout",
     "output_type": "stream",
     "text": [
      "is_invertible_LHS: True\n",
      "condition_number: 3100.0430504262117\n",
      "rank: 10\n",
      "LHS: [[ 1.12500010e+00  0.00000000e+00  0.00000000e+00  0.00000000e+00\n",
      "  -1.00000000e+00 -0.00000000e+00 -0.00000000e+00 -0.00000000e+00\n",
      "   8.00000000e+00  0.00000000e+00]\n",
      " [ 0.00000000e+00  9.64823946e-01  0.00000000e+00  0.00000000e+00\n",
      "  -0.00000000e+00 -1.00000000e+00 -0.00000000e+00 -0.00000000e+00\n",
      "   8.00000000e+00  0.00000000e+00]\n",
      " [ 0.00000000e+00  0.00000000e+00  1.00536210e+00  0.00000000e+00\n",
      "  -0.00000000e+00 -0.00000000e+00 -1.00000000e+00 -0.00000000e+00\n",
      "   0.00000000e+00  7.00000000e+00]\n",
      " [ 0.00000000e+00  0.00000000e+00  0.00000000e+00  8.58898446e-01\n",
      "  -0.00000000e+00 -0.00000000e+00 -0.00000000e+00 -1.00000000e+00\n",
      "   0.00000000e+00  7.00000000e+00]\n",
      " [ 0.00000000e+00  0.00000000e+00  0.00000000e+00  0.00000000e+00\n",
      "   5.00000000e-01  0.00000000e+00  0.00000000e+00  0.00000000e+00\n",
      "   0.00000000e+00  0.00000000e+00]\n",
      " [ 0.00000000e+00  0.00000000e+00  0.00000000e+00  0.00000000e+00\n",
      "   0.00000000e+00  5.00000000e-01  0.00000000e+00  0.00000000e+00\n",
      "   0.00000000e+00  0.00000000e+00]\n",
      " [ 0.00000000e+00  0.00000000e+00  0.00000000e+00  0.00000000e+00\n",
      "   0.00000000e+00  0.00000000e+00  5.00000000e-01  0.00000000e+00\n",
      "   0.00000000e+00  0.00000000e+00]\n",
      " [ 0.00000000e+00  0.00000000e+00  0.00000000e+00  0.00000000e+00\n",
      "   0.00000000e+00  0.00000000e+00  0.00000000e+00  5.00000000e-01\n",
      "   0.00000000e+00  0.00000000e+00]\n",
      " [ 8.00000000e+00  8.00000000e+00  0.00000000e+00  0.00000000e+00\n",
      "   0.00000000e+00  0.00000000e+00  0.00000000e+00  0.00000000e+00\n",
      "  -9.92500000e+02 -0.00000000e+00]\n",
      " [ 0.00000000e+00  0.00000000e+00  7.00000000e+00  7.00000000e+00\n",
      "   0.00000000e+00  0.00000000e+00  0.00000000e+00  0.00000000e+00\n",
      "  -0.00000000e+00 -9.92500000e+02]]\n",
      "LHS Matrix:\n",
      " [[ 1.12500010e+00  0.00000000e+00  0.00000000e+00  0.00000000e+00\n",
      "  -1.00000000e+00 -0.00000000e+00 -0.00000000e+00 -0.00000000e+00\n",
      "   8.00000000e+00  0.00000000e+00]\n",
      " [ 0.00000000e+00  9.64823946e-01  0.00000000e+00  0.00000000e+00\n",
      "  -0.00000000e+00 -1.00000000e+00 -0.00000000e+00 -0.00000000e+00\n",
      "   8.00000000e+00  0.00000000e+00]\n",
      " [ 0.00000000e+00  0.00000000e+00  1.00536210e+00  0.00000000e+00\n",
      "  -0.00000000e+00 -0.00000000e+00 -1.00000000e+00 -0.00000000e+00\n",
      "   0.00000000e+00  7.00000000e+00]\n",
      " [ 0.00000000e+00  0.00000000e+00  0.00000000e+00  8.58898446e-01\n",
      "  -0.00000000e+00 -0.00000000e+00 -0.00000000e+00 -1.00000000e+00\n",
      "   0.00000000e+00  7.00000000e+00]\n",
      " [ 0.00000000e+00  0.00000000e+00  0.00000000e+00  0.00000000e+00\n",
      "   5.00000000e-01  0.00000000e+00  0.00000000e+00  0.00000000e+00\n",
      "   0.00000000e+00  0.00000000e+00]\n",
      " [ 0.00000000e+00  0.00000000e+00  0.00000000e+00  0.00000000e+00\n",
      "   0.00000000e+00  5.00000000e-01  0.00000000e+00  0.00000000e+00\n",
      "   0.00000000e+00  0.00000000e+00]\n",
      " [ 0.00000000e+00  0.00000000e+00  0.00000000e+00  0.00000000e+00\n",
      "   0.00000000e+00  0.00000000e+00  5.00000000e-01  0.00000000e+00\n",
      "   0.00000000e+00  0.00000000e+00]\n",
      " [ 0.00000000e+00  0.00000000e+00  0.00000000e+00  0.00000000e+00\n",
      "   0.00000000e+00  0.00000000e+00  0.00000000e+00  5.00000000e-01\n",
      "   0.00000000e+00  0.00000000e+00]\n",
      " [ 8.00000000e+00  8.00000000e+00  0.00000000e+00  0.00000000e+00\n",
      "   0.00000000e+00  0.00000000e+00  0.00000000e+00  0.00000000e+00\n",
      "  -9.92500000e+02 -0.00000000e+00]\n",
      " [ 0.00000000e+00  0.00000000e+00  7.00000000e+00  7.00000000e+00\n",
      "   0.00000000e+00  0.00000000e+00  0.00000000e+00  0.00000000e+00\n",
      "  -0.00000000e+00 -9.92500000e+02]]\n"
     ]
    }
   ],
   "source": [
    "import numpy as np\n",
    "\n",
    "def check_singularity_with_zero_lambda(A, B, C, D, M):\n",
    "    # Lambda is zero\n",
    "    Lambda = np.zeros((n**2, n**2))\n",
    "    \n",
    "    # Construct the LHS block matrix\n",
    "    LHS = np.block([\n",
    "        [A, B, C],\n",
    "        [Lambda, D, np.zeros((n**2, n))],\n",
    "        [M, np.zeros((n, n**2)), (np.sum(c * d_i) - Q) * np.eye(n)]\n",
    "    ])\n",
    "\n",
    "    # Check conditions for invertibility\n",
    "    def is_invertible(matrix):\n",
    "        return np.linalg.cond(matrix) < 1 / np.finfo(matrix.dtype).eps\n",
    "\n",
    "    is_invertible_LHS = is_invertible(LHS)\n",
    "    condition_number = np.linalg.cond(LHS)\n",
    "\n",
    "    return {\n",
    "        \"is_invertible_LHS\": is_invertible_LHS,\n",
    "        \"condition_number\": condition_number,\n",
    "        \"rank\": np.linalg.matrix_rank(LHS),\n",
    "        \"LHS\": LHS\n",
    "    }\n",
    "\n",
    "# Example data\n",
    "a = np.array([0.66748258, 0.60456784])\n",
    "b = np.array([1.11949035, 0.96349404])\n",
    "c = np.array([8., 7.])\n",
    "r = np.array([0.02581191, 0.13516629])\n",
    "Q = 1000\n",
    "epsilon = 0.1\n",
    "alpha = 0.5\n",
    "d_i = np.array([0.5, 0.5])\n",
    "lambda_i = np.array([0.0, 0.0])  # Lambda is zero\n",
    "mu = 1\n",
    "n = len(a)\n",
    "\n",
    "# Construct matrices (same as before)\n",
    "A_elements = [alpha * b[i]**2 * (a[i] * r[j] + b[i] * d_i[i] + epsilon)**(-alpha-1) for i in range(n) for j in range(n)]\n",
    "A = np.diag(A_elements)\n",
    "B = -np.eye(n**2)\n",
    "C = np.zeros((n**2, n))\n",
    "for i in range(n):\n",
    "    for j in range(n):\n",
    "        idx = i * n + j\n",
    "        C[idx, i] = c[i]\n",
    "D = np.zeros((n**2, n**2))\n",
    "for i in range(n):\n",
    "    for j in range(n):\n",
    "        idx = i * n + j\n",
    "        D[idx, idx] = d_i[i]\n",
    "M = np.zeros((n, n**2))\n",
    "for i in range(n):\n",
    "    M[i, i * 2] = mu * c[i]\n",
    "    M[i, i * 2 + 1] = mu * c[i]\n",
    "\n",
    "# Check conditions with lambda = 0\n",
    "conditions_with_lambda_zero = check_singularity_with_zero_lambda(A, B, C, D, M)\n",
    "for key, value in conditions_with_lambda_zero.items():\n",
    "    print(f\"{key}: {value}\")\n",
    "\n",
    "# Examine the matrix structure\n",
    "LHS = conditions_with_lambda_zero['LHS']\n",
    "print(\"LHS Matrix:\\n\", LHS)\n"
   ]
  },
  {
   "cell_type": "code",
   "execution_count": null,
   "metadata": {},
   "outputs": [],
   "source": []
  }
 ],
 "metadata": {
  "kernelspec": {
   "display_name": "base",
   "language": "python",
   "name": "python3"
  },
  "language_info": {
   "codemirror_mode": {
    "name": "ipython",
    "version": 3
   },
   "file_extension": ".py",
   "mimetype": "text/x-python",
   "name": "python",
   "nbconvert_exporter": "python",
   "pygments_lexer": "ipython3",
   "version": "3.11.5"
  }
 },
 "nbformat": 4,
 "nbformat_minor": 2
}
