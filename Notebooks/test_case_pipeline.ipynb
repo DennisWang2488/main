{
 "cells": [
  {
   "cell_type": "code",
   "execution_count": 1,
   "metadata": {},
   "outputs": [],
   "source": [
    "import cvxpy as cp\n",
    "import numpy as np\n",
    "import warnings\n",
    "import sys\n",
    "from IPython.core.interactiveshell import InteractiveShell\n",
    "\n",
    "warnings.filterwarnings(\"ignore\")\n",
    "InteractiveShell.ast_node_interactivity = \"all\"\n",
    "sys.path.insert(1,'/Users/dennis/Documents/myGit/main/myUtils')"
   ]
  },
  {
   "cell_type": "code",
   "execution_count": 2,
   "metadata": {},
   "outputs": [],
   "source": [
    "# Generate synthetic data\n",
    "import genData\n",
    "import optDatasetRd\n",
    "import optModelRd\n",
    "\n",
    "num_data = 100\n",
    "num_items = 5\n",
    "num_features = 10\n",
    "\n",
    "x, r, c, Q = genData.genDataRd(num_data,num_features, num_items,Q = 100)\n",
    "alpha = 0.5"
   ]
  },
  {
   "cell_type": "code",
   "execution_count": 3,
   "metadata": {},
   "outputs": [],
   "source": [
    "# test optmodel.py\n",
    "optModel = optModelRd.optModel(x,r,c,Q,alpha)"
   ]
  },
  {
   "cell_type": "code",
   "execution_count": 20,
   "metadata": {},
   "outputs": [],
   "source": [
    "res = optModel.solve(closed=True)"
   ]
  },
  {
   "cell_type": "code",
   "execution_count": 21,
   "metadata": {},
   "outputs": [],
   "source": [
    "res2 = optModel.solve()[1]"
   ]
  },
  {
   "cell_type": "markdown",
   "metadata": {},
   "source": []
  },
  {
   "cell_type": "code",
   "execution_count": 23,
   "metadata": {},
   "outputs": [
    {
     "data": {
      "text/plain": [
       "[13.733172107070164,\n",
       " 13.188266792257654,\n",
       " 9.749175005931729,\n",
       " 13.136900370287725,\n",
       " 12.435678755157786,\n",
       " 14.01118353813948,\n",
       " 11.889788641263427,\n",
       " 14.797585992546617,\n",
       " 12.68423242044391,\n",
       " 11.093471320562674,\n",
       " 16.6938027783911,\n",
       " 14.532591738760296,\n",
       " 14.277382251098272,\n",
       " 12.390018931491845,\n",
       " 14.219147412881792,\n",
       " 11.280640859961059,\n",
       " 13.65827672756878,\n",
       " 8.793873339721458,\n",
       " 14.985103313989157,\n",
       " 13.650986355487507,\n",
       " 9.771000861611013,\n",
       " 12.67794587794971,\n",
       " 14.959219874813822,\n",
       " 16.107742834432425,\n",
       " 16.354935252529863,\n",
       " 12.403187436005613,\n",
       " 12.886213851096384,\n",
       " 13.705419557076667,\n",
       " 12.295522659233376,\n",
       " 16.350784695322705,\n",
       " 11.132409047987673,\n",
       " 13.442456256429834,\n",
       " 14.390786938758165,\n",
       " 12.295473953980053,\n",
       " 14.930429518063706,\n",
       " 14.820664979491488,\n",
       " 13.21497226886368,\n",
       " 16.16369959979311,\n",
       " 14.619388532562304,\n",
       " 9.574433786726829,\n",
       " 14.11665805125499,\n",
       " 14.886518153420067,\n",
       " 13.724357667510892,\n",
       " 13.955305287331427,\n",
       " 11.404973506391334,\n",
       " 13.631947570444138,\n",
       " 14.18418137150907,\n",
       " 15.032355613616467,\n",
       " 11.607282783719707,\n",
       " 11.926827036786188,\n",
       " 14.144585910721466,\n",
       " 14.05356772932576,\n",
       " 10.380504503762541,\n",
       " 12.837595925784933,\n",
       " 12.011910098891642,\n",
       " 13.226071238530242,\n",
       " 14.707222967105654,\n",
       " 12.71203926257313,\n",
       " 13.042124362904143,\n",
       " 14.340608531343772,\n",
       " 13.673368608691773,\n",
       " 9.889240570268392,\n",
       " 13.268596703961304,\n",
       " 14.065335306039788,\n",
       " 11.698392457454215,\n",
       " 11.069360168773693,\n",
       " 12.546235163899095,\n",
       " 12.476485531195273,\n",
       " 12.89514780729907,\n",
       " 12.23889808770431,\n",
       " 13.885944926355059,\n",
       " 11.328305181284849,\n",
       " 13.455303076399804,\n",
       " 15.875941411905288,\n",
       " 10.834643286306461,\n",
       " 14.218564302369867,\n",
       " 13.3269757983785,\n",
       " 13.94260567699138,\n",
       " 15.409556336934152,\n",
       " 11.59435390660268,\n",
       " 11.54496400314677,\n",
       " 12.646420086670709,\n",
       " 14.824592919984985,\n",
       " 14.776064100208915,\n",
       " 11.022602671366435,\n",
       " 14.546665432893445,\n",
       " 11.352390220014772,\n",
       " 7.6233057838745015,\n",
       " 14.50436994491809,\n",
       " 10.014985246805807,\n",
       " 11.466013314850716,\n",
       " 14.145446068649989,\n",
       " 14.39980685879536,\n",
       " 11.081825044039581,\n",
       " 10.640972979370996,\n",
       " 14.10853585130076,\n",
       " 13.338161984320486,\n",
       " 11.869554340314991,\n",
       " 13.959704671371853,\n",
       " 12.519658100813235]"
      ]
     },
     "execution_count": 23,
     "metadata": {},
     "output_type": "execute_result"
    }
   ],
   "source": [
    "res2"
   ]
  },
  {
   "cell_type": "code",
   "execution_count": 24,
   "metadata": {},
   "outputs": [
    {
     "data": {
      "text/plain": [
       "131.89092996534322"
      ]
     },
     "execution_count": 24,
     "metadata": {},
     "output_type": "execute_result"
    }
   ],
   "source": [
    "res"
   ]
  },
  {
   "cell_type": "code",
   "execution_count": 31,
   "metadata": {},
   "outputs": [],
   "source": [
    "from torch.utils.data import Dataset\n",
    "\n",
    "class optDataset(Dataset):\n",
    "    def __init__(self,x,r,c,Q,alpha):\n",
    "        self.x = x\n",
    "        self.r = r\n",
    "        self.c = c\n",
    "        self.Q = Q\n",
    "        self.alpha = alpha\n",
    "        self.num_data, self.num_items, self.num_features = x.shape\n",
    "\n",
    "        self.opt_sol = []\n",
    "        self.opt_obj = []\n",
    "        self.opt_sol_c = []\n",
    "        self.opt_obj_c = []\n",
    "\n",
    "        self._solve()\n",
    "\n",
    "\n",
    "    def _solve(self,closed=False):\n",
    "        model = optModel(\n",
    "            self.x,\n",
    "            self.r,\n",
    "            self.c,\n",
    "            self.Q,\n",
    "            self.alpha\n",
    "        )\n",
    "        if closed:\n",
    "            sol, obj = model.solve(closed=True)\n",
    "            self.opt_sol_c.append(sol.reshape(-1,self.num_items))\n",
    "            self.opt_obj_c.append(obj)\n",
    "        else:\n",
    "            sol, obj = model.solve()\n",
    "            self.opt_sol.append(sol.reshape(-1,self.num_items))\n",
    "            self.opt_obj.append(obj)\n",
    "\n",
    "        \n",
    "\n",
    "        \n",
    "        return self.opt_sol_c, self.opt_obj_c\n"
   ]
  },
  {
   "cell_type": "code",
   "execution_count": 32,
   "metadata": {},
   "outputs": [],
   "source": [
    "dataset = optDataset(x,r,c,Q,alpha)"
   ]
  },
  {
   "cell_type": "code",
   "execution_count": 36,
   "metadata": {},
   "outputs": [
    {
     "data": {
      "text/plain": [
       "([], [])"
      ]
     },
     "execution_count": 36,
     "metadata": {},
     "output_type": "execute_result"
    }
   ],
   "source": []
  },
  {
   "cell_type": "code",
   "execution_count": null,
   "metadata": {},
   "outputs": [],
   "source": []
  }
 ],
 "metadata": {
  "kernelspec": {
   "display_name": "base",
   "language": "python",
   "name": "python3"
  },
  "language_info": {
   "codemirror_mode": {
    "name": "ipython",
    "version": 3
   },
   "file_extension": ".py",
   "mimetype": "text/x-python",
   "name": "python",
   "nbconvert_exporter": "python",
   "pygments_lexer": "ipython3",
   "version": "3.9.13"
  }
 },
 "nbformat": 4,
 "nbformat_minor": 2
}
