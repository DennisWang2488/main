{
 "cells": [
  {
   "cell_type": "markdown",
   "metadata": {},
   "source": [
    "# Next Steps\n"
   ]
  },
  {
   "cell_type": "markdown",
   "metadata": {
    "vscode": {
     "languageId": "plaintext"
    }
   },
   "source": [
    "1. Rewrite optModel and optDataset module\n",
    "2. Write a training loop\n",
    "3. Define regret and track regret/runtime\n",
    "4. Plot"
   ]
  },
  {
   "cell_type": "markdown",
   "metadata": {},
   "source": [
    "## Test optModel"
   ]
  },
  {
   "cell_type": "code",
   "execution_count": 118,
   "metadata": {},
   "outputs": [
    {
     "data": {
      "text/plain": [
       "<torch._C.Generator at 0x7fa8510815d0>"
      ]
     },
     "execution_count": 118,
     "metadata": {},
     "output_type": "execute_result"
    },
    {
     "name": "stdout",
     "output_type": "stream",
     "text": [
      "cpu\n"
     ]
    }
   ],
   "source": [
    "import cvxpy as cp\n",
    "import numpy as np\n",
    "import warnings\n",
    "import sys\n",
    "from IPython.core.interactiveshell import InteractiveShell\n",
    "import torch\n",
    "import torch.optim as optim\n",
    "from torch import nn\n",
    "import torch.nn.functional as F\n",
    "from torch.utils.data import Dataset, DataLoader, TensorDataset, random_split\n",
    "\n",
    "np.random.seed(42)\n",
    "torch.manual_seed(42)\n",
    "\n",
    "warnings.filterwarnings(\"ignore\")\n",
    "InteractiveShell.ast_node_interactivity = \"all\"\n",
    "sys.path.insert(1,'/Users/dennis/Documents/myGit/main/myUtils')\n",
    "\n",
    "device = torch.device(\"cuda\" if torch.cuda.is_available() else \"cpu\")\n",
    "print(device)\n"
   ]
  },
  {
   "cell_type": "code",
   "execution_count": 119,
   "metadata": {},
   "outputs": [],
   "source": [
    "class optModel:\n",
    "    def __init__(self, x, r, c, Q, alpha):\n",
    "        self.alpha = alpha\n",
    "        self.Q = Q\n",
    "        self.r = r\n",
    "        self.c = c\n",
    "        self.x = x\n",
    "        self.num_data, self.num_items, self.num_features = x.shape\n",
    "\n",
    "    def setObj(self, r, c):\n",
    "        if self.alpha == 1:\n",
    "            self.objective = cp.sum(cp.log(cp.multiply(r, self.d)))\n",
    "        else:\n",
    "            self.objective = cp.sum(cp.power(cp.multiply(r, self.d), 1 - self.alpha)) / (1 - self.alpha)\n",
    "        \n",
    "        self.constraints = [\n",
    "            self.d >= 0,\n",
    "            cp.sum(cp.multiply(c, self.d)) <= self.Q\n",
    "        ]\n",
    "        self.problem = cp.Problem(cp.Maximize(self.objective), self.constraints)\n",
    "\n",
    "    def solve(self, closed=False):\n",
    "        opt_sol = []\n",
    "        opt_val = []\n",
    "        if closed:\n",
    "            return self.solveC()\n",
    "\n",
    "        for i in range(self.num_data):\n",
    "            self.d = cp.Variable(self.num_items)\n",
    "            self.setObj(self.r[i], self.c[i])\n",
    "            self.problem.solve(abstol=1e-9, reltol=1e-9, feastol=1e-9)\n",
    "            opt_sol.append(self.d.value.reshape(1, self.num_items))\n",
    "            opt_val.append(self.problem.value)\n",
    "\n",
    "        opt_sol = np.concatenate(opt_sol)\n",
    "        return opt_sol, opt_val\n",
    "\n",
    "    def solveC(self):\n",
    "        if self.alpha == 1:\n",
    "            return \"Work in progress\"\n",
    "        \n",
    "        opt_sols_c = []\n",
    "        opt_vals_c = []\n",
    "        for i in range(self.num_data):\n",
    "            S = np.sum(self.c[i] ** (1 - 1 / self.alpha) * self.r[i] ** (-1 + 1 / self.alpha))\n",
    "            opt_sol_c = (self.c[i] ** (-1 / self.alpha) * self.r[i] ** (-1 + 1 / self.alpha) * self.Q) / S\n",
    "            opt_val_c = np.sum((self.r[i] * opt_sol_c) ** (1 - self.alpha)) / (1 - self.alpha)\n",
    "            opt_sols_c.append(opt_sol_c)\n",
    "            opt_vals_c.append(opt_val_c)\n",
    "        \n",
    "        opt_sols_c = np.array(opt_sols_c)\n",
    "        return opt_sols_c, opt_vals_c"
   ]
  },
  {
   "cell_type": "markdown",
   "metadata": {},
   "source": [
    "## 生成数据 "
   ]
  },
  {
   "cell_type": "code",
   "execution_count": 120,
   "metadata": {},
   "outputs": [],
   "source": [
    "def genData(num_data, num_features, num_items, seed=42, Q=100, dim=1, deg=1, noise_width=0.5, epsilon=0.1):\n",
    "    rnd = np.random.RandomState(seed)\n",
    "    n = num_data\n",
    "    p = num_features\n",
    "    m = num_items\n",
    "    \n",
    "    x = rnd.normal(0, 1, (n, m, p))\n",
    "    B = rnd.binomial(1, 0.5, (m, p))\n",
    "\n",
    "    c = np.zeros((n, m))\n",
    "    for i in range(n):\n",
    "        for j in range(m):\n",
    "            values = (np.dot(B[j], x[i, j].reshape(p, 1)).T / np.sqrt(p) + 3) ** deg + 1\n",
    "            values *= 5\n",
    "            values /= 3.5 ** deg\n",
    "            epislon = rnd.uniform(1 - noise_width, 1 + noise_width, 1)\n",
    "            values *= epislon\n",
    "            values = np.ceil(values)\n",
    "            c[i, j] = values\n",
    "\n",
    "    c = c.astype(np.float64)\n",
    "    r = rnd.normal(0, 1, (n, m))\n",
    "    r = 1 / (1 + np.exp(-r))\n",
    "\n",
    "    return x, r, c, Q"
   ]
  },
  {
   "cell_type": "code",
   "execution_count": 121,
   "metadata": {},
   "outputs": [
    {
     "name": "stdout",
     "output_type": "stream",
     "text": [
      "Optimal solution: [ 3.70912192 13.14701444  3.06401269]\n",
      "Objective value: 12.051416435784253\n",
      "Optimal solution (closed form): [ 3.70911821 13.14703314  3.06400571]\n",
      "Objective value (closed form): 12.051416436072254\n"
     ]
    },
    {
     "data": {
      "text/plain": [
       "True"
      ]
     },
     "execution_count": 121,
     "metadata": {},
     "output_type": "execute_result"
    },
    {
     "data": {
      "text/plain": [
       "True"
      ]
     },
     "execution_count": 121,
     "metadata": {},
     "output_type": "execute_result"
    }
   ],
   "source": [
    "# Test optModel with synthetic data\n",
    "x, r, c, Q = genData(100, 4, 3)\n",
    "alpha = 0.5\n",
    "\n",
    "# Create an instance of the optModel class\n",
    "optmodel = optModel(x, r, c, Q, alpha)\n",
    "\n",
    "# Solve the optimization problem\n",
    "opt_sol, opt_val = optmodel.solve()\n",
    "\n",
    "print(\"Optimal solution:\", opt_sol[0])\n",
    "print(\"Objective value:\", opt_val[0])\n",
    "\n",
    "opt_sol_c, opt_val_c = optmodel.solve(closed=True)\n",
    "\n",
    "print(\"Optimal solution (closed form):\", opt_sol_c[0])\n",
    "print(\"Objective value (closed form):\", opt_val_c[0])\n",
    "\n",
    "# Are they the same?\n",
    "np.allclose(opt_sol, opt_sol_c, atol=1e-4, rtol=1e-4)\n",
    "np.allclose(opt_val, opt_val_c)"
   ]
  },
  {
   "cell_type": "markdown",
   "metadata": {},
   "source": [
    "## 测试optDataset"
   ]
  },
  {
   "cell_type": "code",
   "execution_count": 122,
   "metadata": {},
   "outputs": [],
   "source": [
    "class optDataset(Dataset):\n",
    "    def __init__(self, x, r, c, Q, alpha, closed=False):\n",
    "        self.closed = closed\n",
    "        self.x = x\n",
    "        self.r = r\n",
    "        self.c = c\n",
    "        self.Q = Q\n",
    "        self.alpha = alpha\n",
    "        self.num_data, self.num_items, self.num_features = x.shape\n",
    "\n",
    "        self._solve_optimization_problems()\n",
    "\n",
    "    def _solve_optimization_problems(self):\n",
    "        optmodel = optModel(self.x, self.r, self.c, self.Q, self.alpha)\n",
    "        self.opt_sols, self.opt_vals = optmodel.solve()\n",
    "        self.opt_sols_c, self.opt_vals_c = optmodel.solve(closed=True)\n",
    "        self.opt_vals = np.array(self.opt_vals)\n",
    "        self.opt_vals_c = np.array(self.opt_vals_c)\n",
    "\n",
    "    def __len__(self):\n",
    "        return len(self.r)\n",
    "\n",
    "    def __getitem__(self, idx):\n",
    "        if self.closed:\n",
    "            return (\n",
    "                self.x[idx],\n",
    "                self.r[idx],\n",
    "                self.c[idx],\n",
    "                self.opt_sols[idx],\n",
    "                self.opt_vals[idx],\n",
    "                self.opt_sols_c[idx],\n",
    "                self.opt_vals_c[idx],\n",
    "            )\n",
    "        else:\n",
    "            return (\n",
    "                self.x[idx],\n",
    "                self.r[idx],\n",
    "                self.c[idx],\n",
    "                self.opt_sols[idx],\n",
    "                self.opt_vals[idx],\n",
    "            )\n",
    "\n"
   ]
  },
  {
   "cell_type": "code",
   "execution_count": 123,
   "metadata": {},
   "outputs": [
    {
     "data": {
      "text/plain": [
       "(array([[ 0.49671415, -0.1382643 ,  0.64768854,  1.52302986],\n",
       "        [-0.23415337, -0.23413696,  1.57921282,  0.76743473],\n",
       "        [-0.46947439,  0.54256004, -0.46341769, -0.46572975]]),\n",
       " array([0.65990733, 0.76377236, 0.54513221]),\n",
       " array([7., 4., 7.]),\n",
       " array([ 3.70912192, 13.14701444,  3.06401269]),\n",
       " 12.051416435784253)"
      ]
     },
     "execution_count": 123,
     "metadata": {},
     "output_type": "execute_result"
    }
   ],
   "source": [
    "# Test optDatasetRd\n",
    "dataset = optDataset(x, r, c, Q, alpha)\n",
    "dataset[0]"
   ]
  },
  {
   "cell_type": "code",
   "execution_count": 128,
   "metadata": {},
   "outputs": [
    {
     "name": "stdout",
     "output_type": "stream",
     "text": [
      "Number of items: 3\n",
      "Number of features: 4\n"
     ]
    }
   ],
   "source": [
    "num_items = x.shape[1]\n",
    "num_features = x.shape[2]\n",
    "print(\"Number of items:\", num_items)\n",
    "print(\"Number of features:\", num_features)\n",
    "\n",
    "class LogisticRegressionModel(nn.Module):\n",
    "    def __init__(self, num_items, num_features):\n",
    "        super(LogisticRegressionModel, self).__init__()\n",
    "        self.num_items = num_items\n",
    "        self.num_features = num_features\n",
    "        self.linears = nn.ModuleList([nn.Linear(num_features, 1) for _ in range(num_items)])\n",
    "\n",
    "    def forward(self, x):\n",
    "        outputs = []\n",
    "        for i in range(self.num_items):\n",
    "            outputs.append(torch.sigmoid(self.linears[i](x[:, i, :])))\n",
    "        return torch.cat(outputs, dim=1)\n"
   ]
  },
  {
   "cell_type": "code",
   "execution_count": 129,
   "metadata": {},
   "outputs": [
    {
     "data": {
      "text/plain": [
       "LogisticRegressionModel(\n",
       "  (linears): ModuleList(\n",
       "    (0): Linear(in_features=4, out_features=1, bias=True)\n",
       "    (1): Linear(in_features=4, out_features=1, bias=True)\n",
       "    (2): Linear(in_features=4, out_features=1, bias=True)\n",
       "  )\n",
       ")"
      ]
     },
     "execution_count": 129,
     "metadata": {},
     "output_type": "execute_result"
    },
    {
     "name": "stdout",
     "output_type": "stream",
     "text": [
      "Epoch [1/50], Loss: 7.9709\n"
     ]
    },
    {
     "data": {
      "text/plain": [
       "LogisticRegressionModel(\n",
       "  (linears): ModuleList(\n",
       "    (0): Linear(in_features=4, out_features=1, bias=True)\n",
       "    (1): Linear(in_features=4, out_features=1, bias=True)\n",
       "    (2): Linear(in_features=4, out_features=1, bias=True)\n",
       "  )\n",
       ")"
      ]
     },
     "execution_count": 129,
     "metadata": {},
     "output_type": "execute_result"
    },
    {
     "name": "stdout",
     "output_type": "stream",
     "text": [
      "Epoch [2/50], Loss: 7.5159\n"
     ]
    },
    {
     "data": {
      "text/plain": [
       "LogisticRegressionModel(\n",
       "  (linears): ModuleList(\n",
       "    (0): Linear(in_features=4, out_features=1, bias=True)\n",
       "    (1): Linear(in_features=4, out_features=1, bias=True)\n",
       "    (2): Linear(in_features=4, out_features=1, bias=True)\n",
       "  )\n",
       ")"
      ]
     },
     "execution_count": 129,
     "metadata": {},
     "output_type": "execute_result"
    },
    {
     "name": "stdout",
     "output_type": "stream",
     "text": [
      "Epoch [3/50], Loss: 7.1477\n"
     ]
    },
    {
     "data": {
      "text/plain": [
       "LogisticRegressionModel(\n",
       "  (linears): ModuleList(\n",
       "    (0): Linear(in_features=4, out_features=1, bias=True)\n",
       "    (1): Linear(in_features=4, out_features=1, bias=True)\n",
       "    (2): Linear(in_features=4, out_features=1, bias=True)\n",
       "  )\n",
       ")"
      ]
     },
     "execution_count": 129,
     "metadata": {},
     "output_type": "execute_result"
    },
    {
     "name": "stdout",
     "output_type": "stream",
     "text": [
      "Epoch [4/50], Loss: 6.7571\n"
     ]
    },
    {
     "data": {
      "text/plain": [
       "LogisticRegressionModel(\n",
       "  (linears): ModuleList(\n",
       "    (0): Linear(in_features=4, out_features=1, bias=True)\n",
       "    (1): Linear(in_features=4, out_features=1, bias=True)\n",
       "    (2): Linear(in_features=4, out_features=1, bias=True)\n",
       "  )\n",
       ")"
      ]
     },
     "execution_count": 129,
     "metadata": {},
     "output_type": "execute_result"
    },
    {
     "name": "stdout",
     "output_type": "stream",
     "text": [
      "Epoch [5/50], Loss: 6.4445\n"
     ]
    },
    {
     "data": {
      "text/plain": [
       "LogisticRegressionModel(\n",
       "  (linears): ModuleList(\n",
       "    (0): Linear(in_features=4, out_features=1, bias=True)\n",
       "    (1): Linear(in_features=4, out_features=1, bias=True)\n",
       "    (2): Linear(in_features=4, out_features=1, bias=True)\n",
       "  )\n",
       ")"
      ]
     },
     "execution_count": 129,
     "metadata": {},
     "output_type": "execute_result"
    },
    {
     "name": "stdout",
     "output_type": "stream",
     "text": [
      "Epoch [6/50], Loss: 6.1749\n"
     ]
    },
    {
     "data": {
      "text/plain": [
       "LogisticRegressionModel(\n",
       "  (linears): ModuleList(\n",
       "    (0): Linear(in_features=4, out_features=1, bias=True)\n",
       "    (1): Linear(in_features=4, out_features=1, bias=True)\n",
       "    (2): Linear(in_features=4, out_features=1, bias=True)\n",
       "  )\n",
       ")"
      ]
     },
     "execution_count": 129,
     "metadata": {},
     "output_type": "execute_result"
    },
    {
     "name": "stdout",
     "output_type": "stream",
     "text": [
      "Epoch [7/50], Loss: 5.9294\n"
     ]
    },
    {
     "data": {
      "text/plain": [
       "LogisticRegressionModel(\n",
       "  (linears): ModuleList(\n",
       "    (0): Linear(in_features=4, out_features=1, bias=True)\n",
       "    (1): Linear(in_features=4, out_features=1, bias=True)\n",
       "    (2): Linear(in_features=4, out_features=1, bias=True)\n",
       "  )\n",
       ")"
      ]
     },
     "execution_count": 129,
     "metadata": {},
     "output_type": "execute_result"
    },
    {
     "name": "stdout",
     "output_type": "stream",
     "text": [
      "Epoch [8/50], Loss: 5.7517\n"
     ]
    },
    {
     "data": {
      "text/plain": [
       "LogisticRegressionModel(\n",
       "  (linears): ModuleList(\n",
       "    (0): Linear(in_features=4, out_features=1, bias=True)\n",
       "    (1): Linear(in_features=4, out_features=1, bias=True)\n",
       "    (2): Linear(in_features=4, out_features=1, bias=True)\n",
       "  )\n",
       ")"
      ]
     },
     "execution_count": 129,
     "metadata": {},
     "output_type": "execute_result"
    },
    {
     "name": "stdout",
     "output_type": "stream",
     "text": [
      "Epoch [9/50], Loss: 5.5953\n"
     ]
    },
    {
     "data": {
      "text/plain": [
       "LogisticRegressionModel(\n",
       "  (linears): ModuleList(\n",
       "    (0): Linear(in_features=4, out_features=1, bias=True)\n",
       "    (1): Linear(in_features=4, out_features=1, bias=True)\n",
       "    (2): Linear(in_features=4, out_features=1, bias=True)\n",
       "  )\n",
       ")"
      ]
     },
     "execution_count": 129,
     "metadata": {},
     "output_type": "execute_result"
    },
    {
     "name": "stdout",
     "output_type": "stream",
     "text": [
      "Epoch [10/50], Loss: 5.4773\n"
     ]
    },
    {
     "data": {
      "text/plain": [
       "LogisticRegressionModel(\n",
       "  (linears): ModuleList(\n",
       "    (0): Linear(in_features=4, out_features=1, bias=True)\n",
       "    (1): Linear(in_features=4, out_features=1, bias=True)\n",
       "    (2): Linear(in_features=4, out_features=1, bias=True)\n",
       "  )\n",
       ")"
      ]
     },
     "execution_count": 129,
     "metadata": {},
     "output_type": "execute_result"
    },
    {
     "name": "stdout",
     "output_type": "stream",
     "text": [
      "Epoch [11/50], Loss: 5.3596\n"
     ]
    },
    {
     "data": {
      "text/plain": [
       "LogisticRegressionModel(\n",
       "  (linears): ModuleList(\n",
       "    (0): Linear(in_features=4, out_features=1, bias=True)\n",
       "    (1): Linear(in_features=4, out_features=1, bias=True)\n",
       "    (2): Linear(in_features=4, out_features=1, bias=True)\n",
       "  )\n",
       ")"
      ]
     },
     "execution_count": 129,
     "metadata": {},
     "output_type": "execute_result"
    },
    {
     "name": "stdout",
     "output_type": "stream",
     "text": [
      "Epoch [12/50], Loss: 5.2689\n"
     ]
    },
    {
     "data": {
      "text/plain": [
       "LogisticRegressionModel(\n",
       "  (linears): ModuleList(\n",
       "    (0): Linear(in_features=4, out_features=1, bias=True)\n",
       "    (1): Linear(in_features=4, out_features=1, bias=True)\n",
       "    (2): Linear(in_features=4, out_features=1, bias=True)\n",
       "  )\n",
       ")"
      ]
     },
     "execution_count": 129,
     "metadata": {},
     "output_type": "execute_result"
    },
    {
     "name": "stdout",
     "output_type": "stream",
     "text": [
      "Epoch [13/50], Loss: 5.2058\n"
     ]
    },
    {
     "data": {
      "text/plain": [
       "LogisticRegressionModel(\n",
       "  (linears): ModuleList(\n",
       "    (0): Linear(in_features=4, out_features=1, bias=True)\n",
       "    (1): Linear(in_features=4, out_features=1, bias=True)\n",
       "    (2): Linear(in_features=4, out_features=1, bias=True)\n",
       "  )\n",
       ")"
      ]
     },
     "execution_count": 129,
     "metadata": {},
     "output_type": "execute_result"
    },
    {
     "name": "stdout",
     "output_type": "stream",
     "text": [
      "Epoch [14/50], Loss: 5.1532\n"
     ]
    },
    {
     "data": {
      "text/plain": [
       "LogisticRegressionModel(\n",
       "  (linears): ModuleList(\n",
       "    (0): Linear(in_features=4, out_features=1, bias=True)\n",
       "    (1): Linear(in_features=4, out_features=1, bias=True)\n",
       "    (2): Linear(in_features=4, out_features=1, bias=True)\n",
       "  )\n",
       ")"
      ]
     },
     "execution_count": 129,
     "metadata": {},
     "output_type": "execute_result"
    },
    {
     "name": "stdout",
     "output_type": "stream",
     "text": [
      "Epoch [15/50], Loss: 5.1255\n"
     ]
    },
    {
     "data": {
      "text/plain": [
       "LogisticRegressionModel(\n",
       "  (linears): ModuleList(\n",
       "    (0): Linear(in_features=4, out_features=1, bias=True)\n",
       "    (1): Linear(in_features=4, out_features=1, bias=True)\n",
       "    (2): Linear(in_features=4, out_features=1, bias=True)\n",
       "  )\n",
       ")"
      ]
     },
     "execution_count": 129,
     "metadata": {},
     "output_type": "execute_result"
    },
    {
     "name": "stdout",
     "output_type": "stream",
     "text": [
      "Epoch [16/50], Loss: 5.0919\n"
     ]
    },
    {
     "data": {
      "text/plain": [
       "LogisticRegressionModel(\n",
       "  (linears): ModuleList(\n",
       "    (0): Linear(in_features=4, out_features=1, bias=True)\n",
       "    (1): Linear(in_features=4, out_features=1, bias=True)\n",
       "    (2): Linear(in_features=4, out_features=1, bias=True)\n",
       "  )\n",
       ")"
      ]
     },
     "execution_count": 129,
     "metadata": {},
     "output_type": "execute_result"
    },
    {
     "name": "stdout",
     "output_type": "stream",
     "text": [
      "Epoch [17/50], Loss: 5.0733\n"
     ]
    },
    {
     "data": {
      "text/plain": [
       "LogisticRegressionModel(\n",
       "  (linears): ModuleList(\n",
       "    (0): Linear(in_features=4, out_features=1, bias=True)\n",
       "    (1): Linear(in_features=4, out_features=1, bias=True)\n",
       "    (2): Linear(in_features=4, out_features=1, bias=True)\n",
       "  )\n",
       ")"
      ]
     },
     "execution_count": 129,
     "metadata": {},
     "output_type": "execute_result"
    },
    {
     "name": "stdout",
     "output_type": "stream",
     "text": [
      "Epoch [18/50], Loss: 5.0676\n"
     ]
    },
    {
     "data": {
      "text/plain": [
       "LogisticRegressionModel(\n",
       "  (linears): ModuleList(\n",
       "    (0): Linear(in_features=4, out_features=1, bias=True)\n",
       "    (1): Linear(in_features=4, out_features=1, bias=True)\n",
       "    (2): Linear(in_features=4, out_features=1, bias=True)\n",
       "  )\n",
       ")"
      ]
     },
     "execution_count": 129,
     "metadata": {},
     "output_type": "execute_result"
    },
    {
     "name": "stdout",
     "output_type": "stream",
     "text": [
      "Epoch [19/50], Loss: 5.0588\n"
     ]
    },
    {
     "data": {
      "text/plain": [
       "LogisticRegressionModel(\n",
       "  (linears): ModuleList(\n",
       "    (0): Linear(in_features=4, out_features=1, bias=True)\n",
       "    (1): Linear(in_features=4, out_features=1, bias=True)\n",
       "    (2): Linear(in_features=4, out_features=1, bias=True)\n",
       "  )\n",
       ")"
      ]
     },
     "execution_count": 129,
     "metadata": {},
     "output_type": "execute_result"
    },
    {
     "name": "stdout",
     "output_type": "stream",
     "text": [
      "Epoch [20/50], Loss: 5.0494\n"
     ]
    },
    {
     "data": {
      "text/plain": [
       "LogisticRegressionModel(\n",
       "  (linears): ModuleList(\n",
       "    (0): Linear(in_features=4, out_features=1, bias=True)\n",
       "    (1): Linear(in_features=4, out_features=1, bias=True)\n",
       "    (2): Linear(in_features=4, out_features=1, bias=True)\n",
       "  )\n",
       ")"
      ]
     },
     "execution_count": 129,
     "metadata": {},
     "output_type": "execute_result"
    },
    {
     "name": "stdout",
     "output_type": "stream",
     "text": [
      "Epoch [21/50], Loss: 5.0412\n"
     ]
    },
    {
     "data": {
      "text/plain": [
       "LogisticRegressionModel(\n",
       "  (linears): ModuleList(\n",
       "    (0): Linear(in_features=4, out_features=1, bias=True)\n",
       "    (1): Linear(in_features=4, out_features=1, bias=True)\n",
       "    (2): Linear(in_features=4, out_features=1, bias=True)\n",
       "  )\n",
       ")"
      ]
     },
     "execution_count": 129,
     "metadata": {},
     "output_type": "execute_result"
    },
    {
     "name": "stdout",
     "output_type": "stream",
     "text": [
      "Epoch [22/50], Loss: 5.0461\n"
     ]
    },
    {
     "data": {
      "text/plain": [
       "LogisticRegressionModel(\n",
       "  (linears): ModuleList(\n",
       "    (0): Linear(in_features=4, out_features=1, bias=True)\n",
       "    (1): Linear(in_features=4, out_features=1, bias=True)\n",
       "    (2): Linear(in_features=4, out_features=1, bias=True)\n",
       "  )\n",
       ")"
      ]
     },
     "execution_count": 129,
     "metadata": {},
     "output_type": "execute_result"
    },
    {
     "name": "stdout",
     "output_type": "stream",
     "text": [
      "Epoch [23/50], Loss: 5.0408\n"
     ]
    },
    {
     "data": {
      "text/plain": [
       "LogisticRegressionModel(\n",
       "  (linears): ModuleList(\n",
       "    (0): Linear(in_features=4, out_features=1, bias=True)\n",
       "    (1): Linear(in_features=4, out_features=1, bias=True)\n",
       "    (2): Linear(in_features=4, out_features=1, bias=True)\n",
       "  )\n",
       ")"
      ]
     },
     "execution_count": 129,
     "metadata": {},
     "output_type": "execute_result"
    },
    {
     "name": "stdout",
     "output_type": "stream",
     "text": [
      "Epoch [24/50], Loss: 5.0442\n"
     ]
    },
    {
     "data": {
      "text/plain": [
       "LogisticRegressionModel(\n",
       "  (linears): ModuleList(\n",
       "    (0): Linear(in_features=4, out_features=1, bias=True)\n",
       "    (1): Linear(in_features=4, out_features=1, bias=True)\n",
       "    (2): Linear(in_features=4, out_features=1, bias=True)\n",
       "  )\n",
       ")"
      ]
     },
     "execution_count": 129,
     "metadata": {},
     "output_type": "execute_result"
    },
    {
     "name": "stdout",
     "output_type": "stream",
     "text": [
      "Epoch [25/50], Loss: 5.0441\n"
     ]
    },
    {
     "data": {
      "text/plain": [
       "LogisticRegressionModel(\n",
       "  (linears): ModuleList(\n",
       "    (0): Linear(in_features=4, out_features=1, bias=True)\n",
       "    (1): Linear(in_features=4, out_features=1, bias=True)\n",
       "    (2): Linear(in_features=4, out_features=1, bias=True)\n",
       "  )\n",
       ")"
      ]
     },
     "execution_count": 129,
     "metadata": {},
     "output_type": "execute_result"
    },
    {
     "name": "stdout",
     "output_type": "stream",
     "text": [
      "Epoch [26/50], Loss: 5.0426\n"
     ]
    },
    {
     "data": {
      "text/plain": [
       "LogisticRegressionModel(\n",
       "  (linears): ModuleList(\n",
       "    (0): Linear(in_features=4, out_features=1, bias=True)\n",
       "    (1): Linear(in_features=4, out_features=1, bias=True)\n",
       "    (2): Linear(in_features=4, out_features=1, bias=True)\n",
       "  )\n",
       ")"
      ]
     },
     "execution_count": 129,
     "metadata": {},
     "output_type": "execute_result"
    },
    {
     "name": "stdout",
     "output_type": "stream",
     "text": [
      "Epoch [27/50], Loss: 5.0436\n"
     ]
    },
    {
     "data": {
      "text/plain": [
       "LogisticRegressionModel(\n",
       "  (linears): ModuleList(\n",
       "    (0): Linear(in_features=4, out_features=1, bias=True)\n",
       "    (1): Linear(in_features=4, out_features=1, bias=True)\n",
       "    (2): Linear(in_features=4, out_features=1, bias=True)\n",
       "  )\n",
       ")"
      ]
     },
     "execution_count": 129,
     "metadata": {},
     "output_type": "execute_result"
    },
    {
     "name": "stdout",
     "output_type": "stream",
     "text": [
      "Epoch [28/50], Loss: 5.0472\n"
     ]
    },
    {
     "data": {
      "text/plain": [
       "LogisticRegressionModel(\n",
       "  (linears): ModuleList(\n",
       "    (0): Linear(in_features=4, out_features=1, bias=True)\n",
       "    (1): Linear(in_features=4, out_features=1, bias=True)\n",
       "    (2): Linear(in_features=4, out_features=1, bias=True)\n",
       "  )\n",
       ")"
      ]
     },
     "execution_count": 129,
     "metadata": {},
     "output_type": "execute_result"
    },
    {
     "name": "stdout",
     "output_type": "stream",
     "text": [
      "Epoch [29/50], Loss: 5.0492\n"
     ]
    },
    {
     "data": {
      "text/plain": [
       "LogisticRegressionModel(\n",
       "  (linears): ModuleList(\n",
       "    (0): Linear(in_features=4, out_features=1, bias=True)\n",
       "    (1): Linear(in_features=4, out_features=1, bias=True)\n",
       "    (2): Linear(in_features=4, out_features=1, bias=True)\n",
       "  )\n",
       ")"
      ]
     },
     "execution_count": 129,
     "metadata": {},
     "output_type": "execute_result"
    },
    {
     "name": "stdout",
     "output_type": "stream",
     "text": [
      "Epoch [30/50], Loss: 5.0491\n"
     ]
    },
    {
     "data": {
      "text/plain": [
       "LogisticRegressionModel(\n",
       "  (linears): ModuleList(\n",
       "    (0): Linear(in_features=4, out_features=1, bias=True)\n",
       "    (1): Linear(in_features=4, out_features=1, bias=True)\n",
       "    (2): Linear(in_features=4, out_features=1, bias=True)\n",
       "  )\n",
       ")"
      ]
     },
     "execution_count": 129,
     "metadata": {},
     "output_type": "execute_result"
    },
    {
     "name": "stdout",
     "output_type": "stream",
     "text": [
      "Epoch [31/50], Loss: 5.0528\n"
     ]
    },
    {
     "data": {
      "text/plain": [
       "LogisticRegressionModel(\n",
       "  (linears): ModuleList(\n",
       "    (0): Linear(in_features=4, out_features=1, bias=True)\n",
       "    (1): Linear(in_features=4, out_features=1, bias=True)\n",
       "    (2): Linear(in_features=4, out_features=1, bias=True)\n",
       "  )\n",
       ")"
      ]
     },
     "execution_count": 129,
     "metadata": {},
     "output_type": "execute_result"
    },
    {
     "name": "stdout",
     "output_type": "stream",
     "text": [
      "Epoch [32/50], Loss: 5.0589\n"
     ]
    },
    {
     "data": {
      "text/plain": [
       "LogisticRegressionModel(\n",
       "  (linears): ModuleList(\n",
       "    (0): Linear(in_features=4, out_features=1, bias=True)\n",
       "    (1): Linear(in_features=4, out_features=1, bias=True)\n",
       "    (2): Linear(in_features=4, out_features=1, bias=True)\n",
       "  )\n",
       ")"
      ]
     },
     "execution_count": 129,
     "metadata": {},
     "output_type": "execute_result"
    },
    {
     "name": "stdout",
     "output_type": "stream",
     "text": [
      "Epoch [33/50], Loss: 5.0520\n"
     ]
    },
    {
     "data": {
      "text/plain": [
       "LogisticRegressionModel(\n",
       "  (linears): ModuleList(\n",
       "    (0): Linear(in_features=4, out_features=1, bias=True)\n",
       "    (1): Linear(in_features=4, out_features=1, bias=True)\n",
       "    (2): Linear(in_features=4, out_features=1, bias=True)\n",
       "  )\n",
       ")"
      ]
     },
     "execution_count": 129,
     "metadata": {},
     "output_type": "execute_result"
    },
    {
     "name": "stdout",
     "output_type": "stream",
     "text": [
      "Epoch [34/50], Loss: 5.0541\n"
     ]
    },
    {
     "data": {
      "text/plain": [
       "LogisticRegressionModel(\n",
       "  (linears): ModuleList(\n",
       "    (0): Linear(in_features=4, out_features=1, bias=True)\n",
       "    (1): Linear(in_features=4, out_features=1, bias=True)\n",
       "    (2): Linear(in_features=4, out_features=1, bias=True)\n",
       "  )\n",
       ")"
      ]
     },
     "execution_count": 129,
     "metadata": {},
     "output_type": "execute_result"
    },
    {
     "name": "stdout",
     "output_type": "stream",
     "text": [
      "Epoch [35/50], Loss: 5.0564\n"
     ]
    },
    {
     "data": {
      "text/plain": [
       "LogisticRegressionModel(\n",
       "  (linears): ModuleList(\n",
       "    (0): Linear(in_features=4, out_features=1, bias=True)\n",
       "    (1): Linear(in_features=4, out_features=1, bias=True)\n",
       "    (2): Linear(in_features=4, out_features=1, bias=True)\n",
       "  )\n",
       ")"
      ]
     },
     "execution_count": 129,
     "metadata": {},
     "output_type": "execute_result"
    },
    {
     "name": "stdout",
     "output_type": "stream",
     "text": [
      "Epoch [36/50], Loss: 5.0540\n"
     ]
    },
    {
     "data": {
      "text/plain": [
       "LogisticRegressionModel(\n",
       "  (linears): ModuleList(\n",
       "    (0): Linear(in_features=4, out_features=1, bias=True)\n",
       "    (1): Linear(in_features=4, out_features=1, bias=True)\n",
       "    (2): Linear(in_features=4, out_features=1, bias=True)\n",
       "  )\n",
       ")"
      ]
     },
     "execution_count": 129,
     "metadata": {},
     "output_type": "execute_result"
    },
    {
     "name": "stdout",
     "output_type": "stream",
     "text": [
      "Epoch [37/50], Loss: 5.0529\n"
     ]
    },
    {
     "data": {
      "text/plain": [
       "LogisticRegressionModel(\n",
       "  (linears): ModuleList(\n",
       "    (0): Linear(in_features=4, out_features=1, bias=True)\n",
       "    (1): Linear(in_features=4, out_features=1, bias=True)\n",
       "    (2): Linear(in_features=4, out_features=1, bias=True)\n",
       "  )\n",
       ")"
      ]
     },
     "execution_count": 129,
     "metadata": {},
     "output_type": "execute_result"
    },
    {
     "name": "stdout",
     "output_type": "stream",
     "text": [
      "Epoch [38/50], Loss: 5.0551\n"
     ]
    },
    {
     "data": {
      "text/plain": [
       "LogisticRegressionModel(\n",
       "  (linears): ModuleList(\n",
       "    (0): Linear(in_features=4, out_features=1, bias=True)\n",
       "    (1): Linear(in_features=4, out_features=1, bias=True)\n",
       "    (2): Linear(in_features=4, out_features=1, bias=True)\n",
       "  )\n",
       ")"
      ]
     },
     "execution_count": 129,
     "metadata": {},
     "output_type": "execute_result"
    },
    {
     "name": "stdout",
     "output_type": "stream",
     "text": [
      "Epoch [39/50], Loss: 5.0579\n"
     ]
    },
    {
     "data": {
      "text/plain": [
       "LogisticRegressionModel(\n",
       "  (linears): ModuleList(\n",
       "    (0): Linear(in_features=4, out_features=1, bias=True)\n",
       "    (1): Linear(in_features=4, out_features=1, bias=True)\n",
       "    (2): Linear(in_features=4, out_features=1, bias=True)\n",
       "  )\n",
       ")"
      ]
     },
     "execution_count": 129,
     "metadata": {},
     "output_type": "execute_result"
    },
    {
     "name": "stdout",
     "output_type": "stream",
     "text": [
      "Epoch [40/50], Loss: 5.0598\n"
     ]
    },
    {
     "data": {
      "text/plain": [
       "LogisticRegressionModel(\n",
       "  (linears): ModuleList(\n",
       "    (0): Linear(in_features=4, out_features=1, bias=True)\n",
       "    (1): Linear(in_features=4, out_features=1, bias=True)\n",
       "    (2): Linear(in_features=4, out_features=1, bias=True)\n",
       "  )\n",
       ")"
      ]
     },
     "execution_count": 129,
     "metadata": {},
     "output_type": "execute_result"
    },
    {
     "name": "stdout",
     "output_type": "stream",
     "text": [
      "Epoch [41/50], Loss: 5.0607\n"
     ]
    },
    {
     "data": {
      "text/plain": [
       "LogisticRegressionModel(\n",
       "  (linears): ModuleList(\n",
       "    (0): Linear(in_features=4, out_features=1, bias=True)\n",
       "    (1): Linear(in_features=4, out_features=1, bias=True)\n",
       "    (2): Linear(in_features=4, out_features=1, bias=True)\n",
       "  )\n",
       ")"
      ]
     },
     "execution_count": 129,
     "metadata": {},
     "output_type": "execute_result"
    },
    {
     "name": "stdout",
     "output_type": "stream",
     "text": [
      "Epoch [42/50], Loss: 5.0618\n"
     ]
    },
    {
     "data": {
      "text/plain": [
       "LogisticRegressionModel(\n",
       "  (linears): ModuleList(\n",
       "    (0): Linear(in_features=4, out_features=1, bias=True)\n",
       "    (1): Linear(in_features=4, out_features=1, bias=True)\n",
       "    (2): Linear(in_features=4, out_features=1, bias=True)\n",
       "  )\n",
       ")"
      ]
     },
     "execution_count": 129,
     "metadata": {},
     "output_type": "execute_result"
    },
    {
     "name": "stdout",
     "output_type": "stream",
     "text": [
      "Epoch [43/50], Loss: 5.0654\n"
     ]
    },
    {
     "data": {
      "text/plain": [
       "LogisticRegressionModel(\n",
       "  (linears): ModuleList(\n",
       "    (0): Linear(in_features=4, out_features=1, bias=True)\n",
       "    (1): Linear(in_features=4, out_features=1, bias=True)\n",
       "    (2): Linear(in_features=4, out_features=1, bias=True)\n",
       "  )\n",
       ")"
      ]
     },
     "execution_count": 129,
     "metadata": {},
     "output_type": "execute_result"
    },
    {
     "name": "stdout",
     "output_type": "stream",
     "text": [
      "Epoch [44/50], Loss: 5.0705\n"
     ]
    },
    {
     "data": {
      "text/plain": [
       "LogisticRegressionModel(\n",
       "  (linears): ModuleList(\n",
       "    (0): Linear(in_features=4, out_features=1, bias=True)\n",
       "    (1): Linear(in_features=4, out_features=1, bias=True)\n",
       "    (2): Linear(in_features=4, out_features=1, bias=True)\n",
       "  )\n",
       ")"
      ]
     },
     "execution_count": 129,
     "metadata": {},
     "output_type": "execute_result"
    },
    {
     "name": "stdout",
     "output_type": "stream",
     "text": [
      "Epoch [45/50], Loss: 5.0660\n"
     ]
    },
    {
     "data": {
      "text/plain": [
       "LogisticRegressionModel(\n",
       "  (linears): ModuleList(\n",
       "    (0): Linear(in_features=4, out_features=1, bias=True)\n",
       "    (1): Linear(in_features=4, out_features=1, bias=True)\n",
       "    (2): Linear(in_features=4, out_features=1, bias=True)\n",
       "  )\n",
       ")"
      ]
     },
     "execution_count": 129,
     "metadata": {},
     "output_type": "execute_result"
    },
    {
     "name": "stdout",
     "output_type": "stream",
     "text": [
      "Epoch [46/50], Loss: 5.0728\n"
     ]
    },
    {
     "data": {
      "text/plain": [
       "LogisticRegressionModel(\n",
       "  (linears): ModuleList(\n",
       "    (0): Linear(in_features=4, out_features=1, bias=True)\n",
       "    (1): Linear(in_features=4, out_features=1, bias=True)\n",
       "    (2): Linear(in_features=4, out_features=1, bias=True)\n",
       "  )\n",
       ")"
      ]
     },
     "execution_count": 129,
     "metadata": {},
     "output_type": "execute_result"
    },
    {
     "name": "stdout",
     "output_type": "stream",
     "text": [
      "Epoch [47/50], Loss: 5.0787\n"
     ]
    },
    {
     "data": {
      "text/plain": [
       "LogisticRegressionModel(\n",
       "  (linears): ModuleList(\n",
       "    (0): Linear(in_features=4, out_features=1, bias=True)\n",
       "    (1): Linear(in_features=4, out_features=1, bias=True)\n",
       "    (2): Linear(in_features=4, out_features=1, bias=True)\n",
       "  )\n",
       ")"
      ]
     },
     "execution_count": 129,
     "metadata": {},
     "output_type": "execute_result"
    },
    {
     "name": "stdout",
     "output_type": "stream",
     "text": [
      "Epoch [48/50], Loss: 5.0785\n"
     ]
    },
    {
     "data": {
      "text/plain": [
       "LogisticRegressionModel(\n",
       "  (linears): ModuleList(\n",
       "    (0): Linear(in_features=4, out_features=1, bias=True)\n",
       "    (1): Linear(in_features=4, out_features=1, bias=True)\n",
       "    (2): Linear(in_features=4, out_features=1, bias=True)\n",
       "  )\n",
       ")"
      ]
     },
     "execution_count": 129,
     "metadata": {},
     "output_type": "execute_result"
    },
    {
     "name": "stdout",
     "output_type": "stream",
     "text": [
      "Epoch [49/50], Loss: 5.0780\n"
     ]
    },
    {
     "data": {
      "text/plain": [
       "LogisticRegressionModel(\n",
       "  (linears): ModuleList(\n",
       "    (0): Linear(in_features=4, out_features=1, bias=True)\n",
       "    (1): Linear(in_features=4, out_features=1, bias=True)\n",
       "    (2): Linear(in_features=4, out_features=1, bias=True)\n",
       "  )\n",
       ")"
      ]
     },
     "execution_count": 129,
     "metadata": {},
     "output_type": "execute_result"
    },
    {
     "name": "stdout",
     "output_type": "stream",
     "text": [
      "Epoch [50/50], Loss: 5.0831\n"
     ]
    }
   ],
   "source": [
    "# Define the model\n",
    "model = LogisticRegressionModel(num_items, num_features).to(device)\n",
    "\n",
    "# Train-test split\n",
    "train_size = int(0.8 * len(dataset))\n",
    "test_size = len(dataset) - train_size\n",
    "train_dataset, test_dataset = random_split(dataset, [train_size, test_size])\n",
    "\n",
    "batch_size = 32\n",
    "loader_train = DataLoader(train_dataset, batch_size=batch_size, shuffle=True)\n",
    "loader_test = DataLoader(test_dataset, batch_size=batch_size, shuffle=False)\n",
    "\n",
    "criterion = nn.MSELoss()\n",
    "optimizer = optim.Adam(model.parameters(), lr=0.01)\n",
    "\n",
    "# Training loop with custom loss (regret)\n",
    "num_epochs = 50\n",
    "for epoch in range(num_epochs):\n",
    "    model.train()\n",
    "    train_loss = 0.0\n",
    "    for x_batch, r_batch, c_batch, opt_sols_batch, opt_vals_batch in loader_train:\n",
    "        x_batch = x_batch.float().to(device)\n",
    "        r_batch = r_batch.float().to(device)\n",
    "        c_batch = c_batch.float().to(device)\n",
    "        opt_vals_batch = opt_vals_batch.float().to(device)\n",
    "\n",
    "        optimizer.zero_grad()\n",
    "        pred_r = model(x_batch)\n",
    "        \n",
    "        regret_loss = calRegret(optModel, x_batch.cpu().numpy(), c_batch.cpu().numpy(), pred_r.cpu().detach().numpy(), r_batch.cpu().numpy(), opt_vals_batch.cpu().numpy(), alpha)\n",
    "        \n",
    "        loss = criterion(pred_r, r_batch) + regret_loss\n",
    "        loss.backward()\n",
    "        optimizer.step()\n",
    "        \n",
    "        train_loss += loss.item()\n",
    "\n",
    "    print(f'Epoch [{epoch+1}/{num_epochs}], Loss: {train_loss/len(loader_train):.4f}')\n"
   ]
  },
  {
   "cell_type": "markdown",
   "metadata": {},
   "source": [
    "## Regret"
   ]
  },
  {
   "cell_type": "code",
   "execution_count": 114,
   "metadata": {},
   "outputs": [],
   "source": [
    "def calRegret(optmodel, x, true_c, pred_r, true_r, true_obj, alpha):\n",
    "    model = optmodel(x,pred_r, true_c, Q, alpha)\n",
    "    sol, _ = model.solve()\n",
    "    val = []\n",
    "    for i in range(x.shape[1]):\n",
    "        temp = np.sum((true_r[i] * sol[i]) ** (1 - alpha)) / (1 - alpha)\n",
    "        val.append(temp)\n",
    "    val = np.array(val)\n",
    "    regret_loss = 0\n",
    "    for i in range(x.shape[1]):\n",
    "        regret_loss += true_obj[i] - val[i]\n",
    "    return regret_loss"
   ]
  },
  {
   "cell_type": "code",
   "execution_count": 115,
   "metadata": {},
   "outputs": [],
   "source": [
    "def regret(predmodel, optmodel, dataloader, closed=False, alpha=0.5):\n",
    "    \"\"\"\n",
    "    A function to evaluate model performance with normalized true regret\n",
    "\n",
    "    Args:\n",
    "        predmodel (nn): a regression neural network for cost prediction\n",
    "        optmodel (optModel): an PyEPO optimization model\n",
    "        dataloader (DataLoader): Torch dataloader from optDataSet\n",
    "\n",
    "    Returns:\n",
    "        float: true regret loss\n",
    "    \"\"\"\n",
    "    # eval\n",
    "    predmodel.eval()\n",
    "    loss = 0\n",
    "    optsum = 0\n",
    "\n",
    "    if not closed:\n",
    "    # load data\n",
    "        for data in dataloader:\n",
    "            x,r,c,opt_sol,opt_obj,_,_ = data\n",
    "            # cuda\n",
    "            x,r,c,opt_sol,opt_obj = x.cuda(),r.cuda(),c.cuda(),opt_sol.cuda(),opt_obj.cuda()\n",
    "            # predict\n",
    "            with torch.no_grad():\n",
    "                pred_r = predmodel(x).to('cpu').detach().numpy()\n",
    "            # solve\n",
    "            for j in range(pred_r.shape[0]):\n",
    "                loss += calRegret(optmodel, c[j], pred_r[j], r[j].to(\"cpu\").detach().numpy(), opt_obj[j].item(), alpha)\n",
    "\n",
    "                optsum += abs(opt_obj[j].item())\n",
    "    # turn back to train mode\n",
    "    predmodel.train()\n",
    "\n",
    "    # normalize\n",
    "    return loss / (optsum+1e-7)"
   ]
  },
  {
   "cell_type": "code",
   "execution_count": null,
   "metadata": {},
   "outputs": [],
   "source": []
  }
 ],
 "metadata": {
  "kernelspec": {
   "display_name": "base",
   "language": "python",
   "name": "python3"
  },
  "language_info": {
   "codemirror_mode": {
    "name": "ipython",
    "version": 3
   },
   "file_extension": ".py",
   "mimetype": "text/x-python",
   "name": "python",
   "nbconvert_exporter": "python",
   "pygments_lexer": "ipython3",
   "version": "3.9.13"
  }
 },
 "nbformat": 4,
 "nbformat_minor": 2
}
