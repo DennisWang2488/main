{
 "cells": [
  {
   "cell_type": "code",
   "execution_count": 4,
   "metadata": {},
   "outputs": [
    {
     "name": "stdout",
     "output_type": "stream",
     "text": [
      "cuda\n"
     ]
    }
   ],
   "source": [
    "import cvxpy as cp\n",
    "import numpy as np\n",
    "import warnings\n",
    "import sys\n",
    "from IPython.core.interactiveshell import InteractiveShell\n",
    "import torch\n",
    "import torch.optim as optim\n",
    "from torch import nn\n",
    "import torch.nn.functional as F\n",
    "from torch.utils.data import Dataset, DataLoader, TensorDataset, random_split\n",
    "import matplotlib.pyplot as plt\n",
    "\n",
    "np.random.seed(42)\n",
    "torch.manual_seed(42)\n",
    "\n",
    "warnings.filterwarnings(\"ignore\")\n",
    "InteractiveShell.ast_node_interactivity = \"all\"\n",
    "sys.path.insert(1,'E:\\\\User\\\\Stevens\\\\Spring 2024\\\\PTO - Fairness\\\\myGit\\\\myUtils')\n",
    "\n",
    "device = torch.device(\"cuda\" if torch.cuda.is_available() else \"cpu\")\n",
    "print(device)\n",
    "\n",
    "num_data = 100\n",
    "num_features = 4\n",
    "num_items = 3"
   ]
  },
  {
   "cell_type": "code",
   "execution_count": 5,
   "metadata": {},
   "outputs": [],
   "source": [
    "def genData(num_data, num_features, num_items, seed=42, Q=100, dim=1, deg=1, noise_width=0.5, epsilon=0.1):\n",
    "    rnd = np.random.RandomState(seed)\n",
    "    n = num_data\n",
    "    p = num_features\n",
    "    m = num_items\n",
    "    \n",
    "    x = rnd.normal(0, 1, (n, m, p))\n",
    "    B = rnd.binomial(1, 0.5, (m, p))\n",
    "\n",
    "    c = np.zeros((n, m))\n",
    "    for i in range(n):\n",
    "        for j in range(m):\n",
    "            values = (np.dot(B[j], x[i, j].reshape(p, 1)).T / np.sqrt(p) + 3) ** deg + 1\n",
    "            values *= 5\n",
    "            values /= 3.5 ** deg\n",
    "            epislon = rnd.uniform(1 - noise_width, 1 + noise_width, 1)\n",
    "            values *= epislon\n",
    "            values = np.ceil(values)\n",
    "            c[i, j] = values\n",
    "\n",
    "    c = c.astype(np.float64)\n",
    "    r = rnd.normal(0, 1, (n, m))\n",
    "    r = 1 / (1 + np.exp(-r))\n",
    "\n",
    "    return x, r, c, Q"
   ]
  },
  {
   "cell_type": "code",
   "execution_count": 6,
   "metadata": {},
   "outputs": [],
   "source": [
    "class optModel:\n",
    "    def __init__(self, x, r, c, Q, alpha):\n",
    "        self.alpha = alpha\n",
    "        self.Q = Q\n",
    "        self.r = r\n",
    "        self.c = c\n",
    "        self.x = x\n",
    "        self.num_data, self.num_items, self.num_features = x.shape\n",
    "\n",
    "    def setObj(self, r, c):\n",
    "        if self.alpha == 1:\n",
    "            self.objective = cp.sum(cp.log(cp.multiply(r, self.d)))\n",
    "        else:\n",
    "            self.objective = cp.sum(cp.power(cp.multiply(r, self.d), 1 - self.alpha)) / (1 - self.alpha)\n",
    "        \n",
    "        self.constraints = [\n",
    "            self.d >= 0,\n",
    "            cp.sum(cp.multiply(c, self.d)) <= self.Q\n",
    "        ]\n",
    "        self.problem = cp.Problem(cp.Maximize(self.objective), self.constraints)\n",
    "\n",
    "    def solve(self, closed=False):\n",
    "        opt_sol = []\n",
    "        opt_val = []\n",
    "        if closed:\n",
    "            return self.solveC()\n",
    "\n",
    "        for i in range(self.num_data):\n",
    "            self.d = cp.Variable(self.num_items)\n",
    "            self.setObj(self.r[i], self.c[i])\n",
    "            self.problem.solve(abstol=1e-9, reltol=1e-9, feastol=1e-9)\n",
    "            opt_sol.append(self.d.value.reshape(1, self.num_items))\n",
    "            opt_val.append(self.problem.value)\n",
    "\n",
    "        opt_sol = np.concatenate(opt_sol)\n",
    "        return opt_sol, opt_val\n",
    "\n",
    "    def solveC(self):\n",
    "        if self.alpha == 1:\n",
    "            return \"Work in progress\"\n",
    "        \n",
    "        opt_sols_c = []\n",
    "        opt_vals_c = []\n",
    "        for i in range(self.num_data):\n",
    "            S = np.sum(self.c[i] ** (1 - 1 / self.alpha) * self.r[i] ** (-1 + 1 / self.alpha))\n",
    "            opt_sol_c = (self.c[i] ** (-1 / self.alpha) * self.r[i] ** (-1 + 1 / self.alpha) * self.Q) / S\n",
    "            opt_val_c = np.sum((self.r[i] * opt_sol_c) ** (1 - self.alpha)) / (1 - self.alpha)\n",
    "            opt_sols_c.append(opt_sol_c)\n",
    "            opt_vals_c.append(opt_val_c)\n",
    "        \n",
    "        opt_sols_c = np.array(opt_sols_c)\n",
    "        return opt_sols_c, opt_vals_c"
   ]
  },
  {
   "cell_type": "code",
   "execution_count": 7,
   "metadata": {},
   "outputs": [
    {
     "name": "stdout",
     "output_type": "stream",
     "text": [
      "Optimal solution: [ 1.89716597 12.58886077  5.74453819]\n",
      "Objective value: 10.525035953903501\n",
      "Optimal solution (closed form): [ 1.89715409 12.58850965  5.74478812]\n",
      "Objective value (closed form): 10.525035956707143\n"
     ]
    },
    {
     "data": {
      "text/plain": [
       "True"
      ]
     },
     "execution_count": 7,
     "metadata": {},
     "output_type": "execute_result"
    },
    {
     "data": {
      "text/plain": [
       "True"
      ]
     },
     "execution_count": 7,
     "metadata": {},
     "output_type": "execute_result"
    }
   ],
   "source": [
    "# Test optModel with synthetic data\n",
    "x, r, c, Q = genData(10, 4, 3)\n",
    "alpha = 0.5\n",
    "\n",
    "# Create an instance of the optModel class\n",
    "optmodel = optModel(x, r, c, Q, alpha)\n",
    "\n",
    "# Solve the optimization problem\n",
    "opt_sol, opt_val = optmodel.solve()\n",
    "\n",
    "print(\"Optimal solution:\", opt_sol[0])\n",
    "print(\"Objective value:\", opt_val[0])\n",
    "\n",
    "opt_sol_c, opt_val_c = optmodel.solve(closed=True)\n",
    "\n",
    "print(\"Optimal solution (closed form):\", opt_sol_c[0])\n",
    "print(\"Objective value (closed form):\", opt_val_c[0])\n",
    "\n",
    "# Are they the same?\n",
    "np.allclose(opt_sol, opt_sol_c, atol=1e-4, rtol=1e-4)\n",
    "np.allclose(opt_val, opt_val_c)"
   ]
  },
  {
   "cell_type": "code",
   "execution_count": null,
   "metadata": {},
   "outputs": [],
   "source": []
  }
 ],
 "metadata": {
  "kernelspec": {
   "display_name": "base",
   "language": "python",
   "name": "python3"
  },
  "language_info": {
   "codemirror_mode": {
    "name": "ipython",
    "version": 3
   },
   "file_extension": ".py",
   "mimetype": "text/x-python",
   "name": "python",
   "nbconvert_exporter": "python",
   "pygments_lexer": "ipython3",
   "version": "3.11.5"
  }
 },
 "nbformat": 4,
 "nbformat_minor": 2
}
